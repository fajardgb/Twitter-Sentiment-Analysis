{
  "nbformat": 4,
  "nbformat_minor": 0,
  "metadata": {
    "colab": {
      "provenance": []
    },
    "kernelspec": {
      "name": "python3",
      "display_name": "Python 3"
    },
    "language_info": {
      "name": "python"
    },
    "accelerator": "GPU",
    "gpuClass": "premium"
  },
  "cells": [
    {
      "cell_type": "code",
      "execution_count": null,
      "metadata": {
        "id": "9lDoF1di0gh-"
      },
      "outputs": [],
      "source": [
        "!pip install gensim==3.8.3\n",
        "!pip install keras --upgrade\n",
        "!pip install pandas --upgrade\n",
        "!pip install tensorflow --upgrade"
      ]
    },
    {
      "cell_type": "code",
      "source": [
        "import pandas as pd\n",
        "\n",
        "# Matplot\n",
        "import matplotlib.pyplot as plt\n",
        "%matplotlib inline\n",
        "\n",
        "# Scikit-learn\n",
        "from sklearn.model_selection import train_test_split\n",
        "from sklearn.preprocessing import LabelEncoder\n",
        "from sklearn.metrics import confusion_matrix, classification_report, accuracy_score\n",
        "from sklearn.manifold import TSNE\n",
        "from sklearn.feature_extraction.text import TfidfVectorizer\n",
        "\n",
        "# Keras\n",
        "import tensorflow as tf\n",
        "from keras.preprocessing.text import Tokenizer\n",
        "#from keras.preprocessing.sequence import pad_sequences\n",
        "from keras.utils import pad_sequences\n",
        "from keras.models import Sequential\n",
        "from keras.layers import Activation, Dense, Dropout, Embedding, Flatten, Conv1D, MaxPooling1D, LSTM\n",
        "from keras import utils\n",
        "from keras.callbacks import ReduceLROnPlateau, EarlyStopping\n",
        "\n",
        "# nltk\n",
        "import nltk\n",
        "from nltk.corpus import stopwords\n",
        "from  nltk.stem import SnowballStemmer\n",
        "\n",
        "# Word2vec\n",
        "import gensim\n",
        "\n",
        "# Utility\n",
        "import re\n",
        "import numpy as np\n",
        "import os\n",
        "from collections import Counter\n",
        "import logging\n",
        "import time\n",
        "import pickle\n",
        "import itertools"
      ],
      "metadata": {
        "id": "dlbLTAVu1Jnk"
      },
      "execution_count": 2,
      "outputs": []
    },
    {
      "cell_type": "code",
      "source": [
        "vocab_size = 32965\n",
        "# WORD2VEC \n",
        "W2V_SIZE = 300\n",
        "SEQUENCE_LENGTH = 300\n",
        "W2V_WINDOW = 7\n",
        "W2V_EPOCH = 32\n",
        "W2V_MIN_COUNT = 10"
      ],
      "metadata": {
        "id": "PWWkUTBb8AOn"
      },
      "execution_count": 3,
      "outputs": []
    },
    {
      "cell_type": "code",
      "source": [
        "# DATASET\n",
        "DATASET_COLUMNS = [\"target\", \"ids\", \"date\", \"flag\", \"user\", \"text\"]\n",
        "DATASET_ENCODING = \"ISO-8859-1\"\n",
        "TRAIN_SIZE = 0.8\n",
        "\n",
        "# TEXT CLENAING\n",
        "TEXT_CLEANING_RE = \"@\\S+|https?:\\S+|http?:\\S|[^A-Za-z0-9]+\"\n",
        "\n",
        "# WORD2VEC \n",
        "W2V_SIZE = 300\n",
        "W2V_WINDOW = 7\n",
        "W2V_EPOCH = 32\n",
        "W2V_MIN_COUNT = 10\n",
        "\n",
        "# KERAS\n",
        "SEQUENCE_LENGTH = 300\n",
        "EPOCHS = 10\n",
        "BATCH_SIZE = 1024\n",
        "\n",
        "# SENTIMENT\n",
        "POSITIVE = \"POSITIVE\"\n",
        "NEGATIVE = \"NEGATIVE\"\n",
        "NEUTRAL = \"NEUTRAL\"\n",
        "SENTIMENT_THRESHOLDS = (0.4, 0.7)\n",
        "\n",
        "# EXPORT\n",
        "KERAS_MODEL = \"model.h5\"\n",
        "WORD2VEC_MODEL = \"model.w2v\"\n",
        "TOKENIZER_MODEL = \"tokenizer.pkl\"\n",
        "ENCODER_MODEL = \"encoder.pkl\""
      ],
      "metadata": {
        "id": "bAPl6Tf-HZu6"
      },
      "execution_count": 4,
      "outputs": []
    },
    {
      "cell_type": "code",
      "source": [
        "from google.colab import drive\n",
        "drive.mount('/content/drive')"
      ],
      "metadata": {
        "colab": {
          "base_uri": "https://localhost:8080/"
        },
        "id": "9YMeBNAl2A-q",
        "outputId": "0290e9a4-c69a-4e9a-d56a-03d12e5f983e"
      },
      "execution_count": 5,
      "outputs": [
        {
          "output_type": "stream",
          "name": "stdout",
          "text": [
            "Drive already mounted at /content/drive; to attempt to forcibly remount, call drive.mount(\"/content/drive\", force_remount=True).\n"
          ]
        }
      ]
    },
    {
      "cell_type": "code",
      "source": [
        "#LOADING\n",
        "load_dir = '/content/drive/MyDrive/nns/'\n",
        "train_test_dir = load_dir+'saved_train_test/'\n",
        "\n",
        "embedding_matrix = np.load(load_dir+'embedding_matrix.npy')\n",
        "\n",
        "x_train = np.load(train_test_dir+'x_train.npy')\n",
        "y_train = np.load(train_test_dir+'y_train.npy')\n",
        "\n",
        "x_test = np.load(train_test_dir+'x_test.npy')\n",
        "y_test = np.load(train_test_dir+'y_test.npy')"
      ],
      "metadata": {
        "id": "fpBLAbAZ1uw8"
      },
      "execution_count": 6,
      "outputs": []
    },
    {
      "cell_type": "code",
      "source": [
        "print(\"x_train\", x_train.shape)\n",
        "print(\"y_train\", y_train.shape)\n",
        "print()\n",
        "print(\"x_test\", x_test.shape)\n",
        "print(\"y_test\", y_test.shape)"
      ],
      "metadata": {
        "colab": {
          "base_uri": "https://localhost:8080/"
        },
        "id": "PsWUu6JlH_y5",
        "outputId": "2f41456b-3ffb-4eb1-fc63-5ae11dd60cc1"
      },
      "execution_count": 7,
      "outputs": [
        {
          "output_type": "stream",
          "name": "stdout",
          "text": [
            "x_train (40000, 300)\n",
            "y_train (40000, 1)\n",
            "\n",
            "x_test (10000, 300)\n",
            "y_test (10000, 1)\n"
          ]
        }
      ]
    },
    {
      "cell_type": "markdown",
      "source": [
        "###NN Model"
      ],
      "metadata": {
        "id": "jc3FTRj88-6s"
      }
    },
    {
      "cell_type": "code",
      "source": [
        "#HYPER PARAMETERS\n",
        "model_name = \"RNN\"\n",
        "num_epochs = 10\n",
        "batch_size = 1024\n",
        "rnn_units = 784\n",
        "sequence_length=300\n",
        "activation=\"sigmoid\"\n",
        "optimizer='adam'"
      ],
      "metadata": {
        "id": "1SIfnf-w761F"
      },
      "execution_count": 8,
      "outputs": []
    },
    {
      "cell_type": "code",
      "source": [
        "#MODEL\n",
        "embedding_layer = Embedding(vocab_size, W2V_SIZE, weights=[embedding_matrix], \n",
        "                            input_length=SEQUENCE_LENGTH, \n",
        "                            trainable=False)\n",
        "\n",
        "model = Sequential()\n",
        "model.add(embedding_layer)\n",
        "model.add(tf.keras.layers.Dropout(0.5))\n",
        "model.add(tf.keras.layers.GRU(rnn_units,\n",
        "                        recurrent_initializer='glorot_uniform'))\n",
        "model.add(Dense(1, activation='sigmoid'))\n",
        "\n",
        "\n",
        "model.summary()"
      ],
      "metadata": {
        "colab": {
          "base_uri": "https://localhost:8080/"
        },
        "id": "GRvtU9BcBkm9",
        "outputId": "3085eaca-e492-4681-ce6a-070bd5675052"
      },
      "execution_count": 9,
      "outputs": [
        {
          "output_type": "stream",
          "name": "stdout",
          "text": [
            "Model: \"sequential\"\n",
            "_________________________________________________________________\n",
            " Layer (type)                Output Shape              Param #   \n",
            "=================================================================\n",
            " embedding (Embedding)       (None, 300, 300)          9889500   \n",
            "                                                                 \n",
            " dropout (Dropout)           (None, 300, 300)          0         \n",
            "                                                                 \n",
            " gru (GRU)                   (None, 784)               2554272   \n",
            "                                                                 \n",
            " dense (Dense)               (None, 1)                 785       \n",
            "                                                                 \n",
            "=================================================================\n",
            "Total params: 12,444,557\n",
            "Trainable params: 2,555,057\n",
            "Non-trainable params: 9,889,500\n",
            "_________________________________________________________________\n"
          ]
        }
      ]
    },
    {
      "cell_type": "code",
      "source": [
        "#OPTIMIZATION\n",
        "callbacks = [ tf.keras.callbacks.ReduceLROnPlateau(monitor='val_loss', patience=5, cooldown=0),\n",
        "              tf.keras.callbacks.EarlyStopping(monitor='val_accuracy', min_delta=1e-4, patience=5)]\n",
        "model.compile(loss='binary_crossentropy',\n",
        "              optimizer='adam',\n",
        "              metrics=['accuracy'])"
      ],
      "metadata": {
        "id": "g2yMLKsd8zy-"
      },
      "execution_count": 10,
      "outputs": []
    },
    {
      "cell_type": "code",
      "source": [
        "#TRAINING\n",
        "%%time\n",
        "history = model.fit(x_train, y_train,\n",
        "                    batch_size=batch_size,\n",
        "                    epochs=num_epochs,\n",
        "                    validation_split=0.1,\n",
        "                    verbose=1,\n",
        "                    callbacks=callbacks)"
      ],
      "metadata": {
        "colab": {
          "base_uri": "https://localhost:8080/"
        },
        "id": "p4WxPLHhB0AO",
        "outputId": "8f06bcf5-e4fe-478e-e785-77acb0e8cf76"
      },
      "execution_count": 11,
      "outputs": [
        {
          "output_type": "stream",
          "name": "stdout",
          "text": [
            "Epoch 1/10\n",
            "36/36 [==============================] - 62s 2s/step - loss: 0.5835 - accuracy: 0.6903 - val_loss: 0.5461 - val_accuracy: 0.7207 - lr: 0.0010\n",
            "Epoch 2/10\n",
            "36/36 [==============================] - 57s 2s/step - loss: 0.5493 - accuracy: 0.7179 - val_loss: 0.5338 - val_accuracy: 0.7287 - lr: 0.0010\n",
            "Epoch 3/10\n",
            "36/36 [==============================] - 57s 2s/step - loss: 0.5351 - accuracy: 0.7274 - val_loss: 0.5295 - val_accuracy: 0.7278 - lr: 0.0010\n",
            "Epoch 4/10\n",
            "36/36 [==============================] - 56s 2s/step - loss: 0.5260 - accuracy: 0.7319 - val_loss: 0.5285 - val_accuracy: 0.7265 - lr: 0.0010\n",
            "Epoch 5/10\n",
            "36/36 [==============================] - 58s 2s/step - loss: 0.5193 - accuracy: 0.7377 - val_loss: 0.5283 - val_accuracy: 0.7327 - lr: 0.0010\n",
            "Epoch 6/10\n",
            "36/36 [==============================] - 56s 2s/step - loss: 0.5162 - accuracy: 0.7393 - val_loss: 0.5426 - val_accuracy: 0.7203 - lr: 0.0010\n",
            "Epoch 7/10\n",
            "36/36 [==============================] - 57s 2s/step - loss: 0.5143 - accuracy: 0.7429 - val_loss: 0.5271 - val_accuracy: 0.7330 - lr: 0.0010\n",
            "Epoch 8/10\n",
            "36/36 [==============================] - 57s 2s/step - loss: 0.4990 - accuracy: 0.7504 - val_loss: 0.5302 - val_accuracy: 0.7327 - lr: 0.0010\n",
            "Epoch 9/10\n",
            "36/36 [==============================] - 57s 2s/step - loss: 0.4887 - accuracy: 0.7568 - val_loss: 0.5316 - val_accuracy: 0.7352 - lr: 0.0010\n",
            "Epoch 10/10\n",
            "36/36 [==============================] - 56s 2s/step - loss: 0.4769 - accuracy: 0.7681 - val_loss: 0.5403 - val_accuracy: 0.7325 - lr: 0.0010\n",
            "CPU times: user 6min 54s, sys: 9.89 s, total: 7min 4s\n",
            "Wall time: 10min 25s\n"
          ]
        }
      ]
    },
    {
      "cell_type": "code",
      "source": [
        "#TESTING\n",
        "score = model.evaluate(x_test, y_test, batch_size=batch_size)\n",
        "\n",
        "print(\"ACCURACY:\",score[1])\n",
        "print(\"LOSS:\",score[0])\n",
        "\n",
        "acc = history.history['accuracy']\n",
        "print(\"acc:\", acc)\n",
        "val_acc = history.history['val_accuracy']\n",
        "print(\"val_acc:\", val_acc)\n",
        "loss = history.history['loss']\n",
        "print(\"loss:\", loss)\n",
        "val_loss = history.history['val_loss']\n",
        "print(\"val_loss:\", val_loss)\n"
      ],
      "metadata": {
        "colab": {
          "base_uri": "https://localhost:8080/"
        },
        "id": "Cux6e7GJCf09",
        "outputId": "d71d0e2f-f936-403a-9232-e8a71762c632"
      },
      "execution_count": 12,
      "outputs": [
        {
          "output_type": "stream",
          "name": "stdout",
          "text": [
            "10/10 [==============================] - 4s 395ms/step - loss: 0.5218 - accuracy: 0.7407\n",
            "ACCURACY: 0.7407000064849854\n",
            "LOSS: 0.5218129754066467\n",
            "acc: [0.6903055310249329, 0.7178611159324646, 0.7273610830307007, 0.7318888902664185, 0.7376944422721863, 0.7392500042915344, 0.7429166436195374, 0.7503888607025146, 0.7567777633666992, 0.7680833339691162]\n",
            "val_acc: [0.7207499742507935, 0.7287499904632568, 0.7277500033378601, 0.7264999747276306, 0.7327499985694885, 0.7202500104904175, 0.7329999804496765, 0.7327499985694885, 0.7352499961853027, 0.7325000166893005]\n",
            "loss: [0.5834757685661316, 0.5493130683898926, 0.5350783467292786, 0.5260161757469177, 0.5192914009094238, 0.5161949396133423, 0.5143142938613892, 0.49901577830314636, 0.48869064450263977, 0.4769092798233032]\n",
            "val_loss: [0.5460783243179321, 0.5338124632835388, 0.5294843912124634, 0.5284732580184937, 0.5282540321350098, 0.5425861477851868, 0.5271004438400269, 0.5302062034606934, 0.5315521955490112, 0.5403430461883545]\n"
          ]
        }
      ]
    },
    {
      "cell_type": "code",
      "source": [
        "#SAVING \n",
        "save_dir = '/content/drive/MyDrive/nns/saved_nn_models/'\n",
        "model_name = \"RNN\"\n",
        "model.save(save_dir+model_name+\".h5\")\n"
      ],
      "metadata": {
        "id": "crvxR8W3Clwy"
      },
      "execution_count": 13,
      "outputs": []
    },
    {
      "cell_type": "code",
      "source": [
        "!ls /content/drive/MyDrive/nns/saved_nn_models/"
      ],
      "metadata": {
        "colab": {
          "base_uri": "https://localhost:8080/"
        },
        "id": "EiTb8ssHl5VN",
        "outputId": "f6137c83-126e-4432-e5e1-8fe26774c226"
      },
      "execution_count": 14,
      "outputs": [
        {
          "output_type": "stream",
          "name": "stdout",
          "text": [
            "FFNN1.h5  FFNN3.h5  FFNN5.h5  LSTM.h5  RNN.h5\n"
          ]
        }
      ]
    }
  ]
}