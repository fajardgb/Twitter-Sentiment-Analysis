{
 "cells": [
  {
   "cell_type": "code",
   "execution_count": 9,
   "metadata": {},
   "outputs": [],
   "source": [
    "# twitter api\n",
    "import tweepy\n",
    "import pandas as pd"
   ]
  },
  {
   "cell_type": "code",
   "execution_count": 10,
   "metadata": {},
   "outputs": [
    {
     "name": "stdout",
     "output_type": "stream",
     "text": [
      "<tweepy.api.API object at 0x124bff760>\n",
      "Authentication OK\n",
      "API rate limit:  {'/search/tweets': {'limit': 180, 'remaining': 174, 'reset': 1669868903}}\n",
      "Reset time:  1669868903\n"
     ]
    }
   ],
   "source": [
    "# Please insert Twitter API Credentials\n",
    "# Twitter API credentials\n",
    "consumer_key = \"\"\n",
    "consumer_secret = \"\"\n",
    "access_key = \"\"\n",
    "access_secret = \"\"\n",
    "\n",
    "auth = tweepy.OAuthHandler(consumer_key, consumer_secret)\n",
    "auth.set_access_token(access_key, access_secret)\n",
    "api = tweepy.API(auth)\n",
    "\n",
    "# print api information\n",
    "print(api)\n",
    "\n",
    "# verify if the credentials are correct\n",
    "try :\n",
    "    api.verify_credentials()\n",
    "    print(\"Authentication OK\")\n",
    "except :\n",
    "    print(\"Error during authentication\")\n",
    "\n",
    "# check api rate limit for api calls\n",
    "print(\"API rate limit: \", api.rate_limit_status()['resources']['search'])\n",
    "# check time of reset\n",
    "print(\"Reset time: \", api.rate_limit_status()['resources']['search']['/search/tweets']['reset'])"
   ]
  },
  {
   "cell_type": "markdown",
   "metadata": {},
   "source": [
    "<!-- Create a Table of 4 columns and 7 rows -->\n",
    "<table>\n",
    "  <tr>\n",
    "    <th>STATE</th>\n",
    "    <th>REP</th>\n",
    "    <th>DEM</th>\n",
    "    <th>WINNER</th>\n",
    "  </tr>\n",
    "  <tr>\n",
    "    <td>PA</td>\n",
    "    <td>Mehmet Oz (@DrOz)</td>\n",
    "    <td>John Fetterman (@JohnFetterman)</td>\n",
    "    <td>Fetterman</td>\n",
    "  </tr>\n",
    "  <tr>\n",
    "    <td>NV</td>\n",
    "    <td>Adam Laxalt (@AdamLaxalt)</td>\n",
    "    <td>Catherine Cortez Masto @SenCortezMasto</td>\n",
    "    <td>Cortez Masto </td>\n",
    "  </tr>\n",
    "  <tr>\n",
    "    <td>WI</td>\n",
    "    <td>Ron Johnson (@SenRonJohnson)</td>\n",
    "    <td>Mandela Barnes (@TheOtherMandela)</td>\n",
    "    <td>Johnson</td>\n",
    "  </tr>\n",
    "  <tr>\n",
    "    <td>NH</td>\n",
    "    <td>Donald Bolduc @GenDonBolduc</td>\n",
    "    <td>Maggie Hassan @SenatorHassan</td>\n",
    "    <td>Hassan</td>\n",
    "  </tr>\n",
    "  <tr>\n",
    "    <td>NC</td>\n",
    "    <td>Ted Budd @RepTedBudd</td>\n",
    "    <td>Cheri Beasley @CheriBeasleyNC</td>\n",
    "    <td>Budd</td>\n",
    "  </tr>\n",
    "  <tr>\n",
    "    <td>NY</td>\n",
    "    <td>Joe Pinion @JosephPinion</td>\n",
    "    <td>Charles Schumer @SenSchumer</td>\n",
    "    <td>Schumer</td>\n",
    "  </tr>\n",
    "  <tr>\n",
    "    <td>OH</td>\n",
    "    <td>JD Vance @JDVance1</td>\n",
    "    <td>Tim Ryan @RepTimRyan</td>\n",
    "    <td>Vance</td>\n",
    "  </tr>"
   ]
  },
  {
   "cell_type": "code",
   "execution_count": 11,
   "metadata": {},
   "outputs": [],
   "source": [
    "def tweets_getter(query, count, date):\n",
    "    # search tweets\n",
    "    tweets = api.search_tweets(q=query, count=count, tweet_mode=\"extended\", until=date, lang=\"en\")\n",
    "    tweets_df = pd.DataFrame(columns = [\"Time\", \"Tweet\", \"User\", \"Location\", \"Retweets\", \"Likes\"])\n",
    "    for i in range(len(tweets)):\n",
    "        tweets_df.loc[i, \"Time\"] = tweets[i].created_at\n",
    "        tweets_df.loc[i, \"Tweet\"] = tweets[i].full_text\n",
    "        tweets_df.loc[i, \"User\"] = tweets[i].user.screen_name\n",
    "        tweets_df.loc[i, \"Location\"] = tweets[i].user.location\n",
    "        tweets_df.loc[i, \"Retweets\"] = tweets[i].retweet_count\n",
    "        tweets_df.loc[i, \"Likes\"] = tweets[i].favorite_count\n",
    "    return tweets_df"
   ]
  },
  {
   "cell_type": "code",
   "execution_count": 12,
   "metadata": {},
   "outputs": [],
   "source": [
    "# make empty df for each politician\n",
    "mehmet_oz = pd.DataFrame(columns = [\"Time\", \"Tweet\", \"User\", \"Location\", \"Retweets\", \"Likes\"])\n",
    "john_fetterman = pd.DataFrame(columns = [\"Time\", \"Tweet\", \"User\", \"Location\", \"Retweets\", \"Likes\"])\n",
    "adam_laxalt = pd.DataFrame(columns = [\"Time\", \"Tweet\", \"User\", \"Location\", \"Retweets\", \"Likes\"])\n",
    "catherine_cortez_masto = pd.DataFrame(columns = [\"Time\", \"Tweet\", \"User\", \"Location\", \"Retweets\", \"Likes\"])\n",
    "ron_johnson = pd.DataFrame(columns = [\"Time\", \"Tweet\", \"User\", \"Location\", \"Retweets\", \"Likes\"])\n",
    "mandela_barnes = pd.DataFrame(columns = [\"Time\", \"Tweet\", \"User\", \"Location\", \"Retweets\", \"Likes\"])\n",
    "donald_bolduc = pd.DataFrame(columns = [\"Time\", \"Tweet\", \"User\", \"Location\", \"Retweets\", \"Likes\"])\n",
    "maggie_hassan = pd.DataFrame(columns = [\"Time\", \"Tweet\", \"User\", \"Location\", \"Retweets\", \"Likes\"])\n",
    "ted_budd = pd.DataFrame(columns = [\"Time\", \"Tweet\", \"User\", \"Location\", \"Retweets\", \"Likes\"])\n",
    "cheri_beasly = pd.DataFrame(columns = [\"Time\", \"Tweet\", \"User\", \"Location\", \"Retweets\", \"Likes\"])\n",
    "joe_pinion = pd.DataFrame(columns = [\"Time\", \"Tweet\", \"User\", \"Location\", \"Retweets\", \"Likes\"])\n",
    "charles_schumer = pd.DataFrame(columns = [\"Time\", \"Tweet\", \"User\", \"Location\", \"Retweets\", \"Likes\"])\n",
    "jd_vance = pd.DataFrame(columns = [\"Time\", \"Tweet\", \"User\", \"Location\", \"Retweets\", \"Likes\"])\n",
    "tim_ryan = pd.DataFrame(columns = [\"Time\", \"Tweet\", \"User\", \"Location\", \"Retweets\", \"Likes\"])"
   ]
  },
  {
   "cell_type": "code",
   "execution_count": 13,
   "metadata": {},
   "outputs": [],
   "source": [
    "date = \"2022-11-24\""
   ]
  },
  {
   "cell_type": "code",
   "execution_count": 14,
   "metadata": {},
   "outputs": [],
   "source": [
    "for i in range(5):\n",
    "    mehmet_oz = pd.concat([mehmet_oz, tweets_getter(\"Mehmet Oz\", 100, date)])\n",
    "    john_fetterman = pd.concat([john_fetterman, tweets_getter(\"John Fetterman\", 100, date)])\n",
    "    adam_laxalt = pd.concat([adam_laxalt, tweets_getter(\"Adam Laxalt\", 100, date)])\n",
    "    catherine_cortez_masto = pd.concat([catherine_cortez_masto, tweets_getter(\"Catherine Cortez Masto\", 100, date)])\n",
    "    ron_johnson = pd.concat([ron_johnson, tweets_getter(\"Ron Johnson\", 100, date)])\n",
    "    mandela_barnes = pd.concat([mandela_barnes, tweets_getter(\"Mandela Barnes\", 100, date)])\n",
    "    donald_bolduc = pd.concat([donald_bolduc, tweets_getter(\"Donald Bolduc\", 100, date)])\n",
    "    maggie_hassan = pd.concat([maggie_hassan, tweets_getter(\"Maggie Hassan\", 100, date)])\n",
    "    ted_budd = pd.concat([ted_budd, tweets_getter(\"Ted Budd\", 100, date)])\n",
    "    cheri_beasly = pd.concat([cheri_beasly, tweets_getter(\"Cheri Beasley\", 100, date)])\n",
    "    joe_pinion = pd.concat([joe_pinion, tweets_getter(\"Joe Pinion\", 100, date)])\n",
    "    charles_schumer = pd.concat([charles_schumer, tweets_getter(\"Charles Schumer\", 100, date)])\n",
    "    jd_vance = pd.concat([jd_vance, tweets_getter(\"JD Vance\", 100, date)])\n",
    "    tim_ryan = pd.concat([tim_ryan, tweets_getter(\"Tim Ryan\", 100, date)])"
   ]
  },
  {
   "cell_type": "code",
   "execution_count": 15,
   "metadata": {},
   "outputs": [],
   "source": [
    "# turn all df into csv files\n",
    "mehmet_oz.to_csv(\"mehmet_oz.csv\")\n",
    "john_fetterman.to_csv(\"john_fetterman.csv\")\n",
    "adam_laxalt.to_csv(\"adam_laxalt.csv\")\n",
    "catherine_cortez_masto.to_csv(\"catherine_cortez_masto.csv\")\n",
    "ron_johnson.to_csv(\"ron_johnson.csv\")\n",
    "mandela_barnes.to_csv(\"mandela_barnes.csv\")\n",
    "donald_bolduc.to_csv(\"donald_bolduc.csv\")\n",
    "maggie_hassan.to_csv(\"maggie_hassan.csv\")\n",
    "ted_budd.to_csv(\"ted_budd.csv\")\n",
    "cheri_beasly.to_csv(\"cheri_beasly.csv\")\n",
    "joe_pinion.to_csv(\"joe_pinion.csv\")\n",
    "charles_schumer.to_csv(\"charles_schumer.csv\")\n",
    "jd_vance.to_csv(\"jd_vance.csv\")\n",
    "tim_ryan.to_csv(\"tim_ryan.csv\")"
   ]
  }
 ],
 "metadata": {
  "kernelspec": {
   "display_name": "Python 3.10.7 64-bit",
   "language": "python",
   "name": "python3"
  },
  "language_info": {
   "codemirror_mode": {
    "name": "ipython",
    "version": 3
   },
   "file_extension": ".py",
   "mimetype": "text/x-python",
   "name": "python",
   "nbconvert_exporter": "python",
   "pygments_lexer": "ipython3",
   "version": "3.10.7"
  },
  "orig_nbformat": 4,
  "vscode": {
   "interpreter": {
    "hash": "aee8b7b246df8f9039afb4144a1f6fd8d2ca17a180786b69acc140d282b71a49"
   }
  }
 },
 "nbformat": 4,
 "nbformat_minor": 2
}
