{
  "nbformat": 4,
  "nbformat_minor": 0,
  "metadata": {
    "colab": {
      "provenance": []
    },
    "kernelspec": {
      "name": "python3",
      "display_name": "Python 3"
    },
    "language_info": {
      "name": "python"
    }
  },
  "cells": [
    {
      "cell_type": "markdown",
      "source": [
        "This ipynb is for fine tuning and testing GPT-3 model using OpenAI API and sentiment140 dataset. The API key is omitted on this repo for security reasons, so the code won't be able to run without it."
      ],
      "metadata": {
        "id": "YwtX93ISd9Qm"
      }
    },
    {
      "cell_type": "code",
      "execution_count": null,
      "metadata": {
        "colab": {
          "base_uri": "https://localhost:8080/"
        },
        "collapsed": true,
        "id": "1nza_03DaCfW",
        "outputId": "e9b4363f-991e-42a6-b521-6912748c7a86"
      },
      "outputs": [
        {
          "output_type": "stream",
          "name": "stdout",
          "text": [
            "Looking in indexes: https://pypi.org/simple, https://us-python.pkg.dev/colab-wheels/public/simple/\n",
            "Collecting openai\n",
            "  Downloading openai-0.25.0.tar.gz (44 kB)\n",
            "\u001b[K     |████████████████████████████████| 44 kB 2.7 MB/s \n",
            "\u001b[?25h  Installing build dependencies ... \u001b[?25l\u001b[?25hdone\n",
            "  Getting requirements to build wheel ... \u001b[?25l\u001b[?25hdone\n",
            "    Preparing wheel metadata ... \u001b[?25l\u001b[?25hdone\n",
            "Requirement already satisfied: typing-extensions in /usr/local/lib/python3.8/dist-packages (from openai) (4.1.1)\n",
            "Requirement already satisfied: pandas>=1.2.3 in /usr/local/lib/python3.8/dist-packages (from openai) (1.3.5)\n",
            "Requirement already satisfied: numpy in /usr/local/lib/python3.8/dist-packages (from openai) (1.21.6)\n",
            "Requirement already satisfied: openpyxl>=3.0.7 in /usr/local/lib/python3.8/dist-packages (from openai) (3.0.10)\n",
            "Requirement already satisfied: tqdm in /usr/local/lib/python3.8/dist-packages (from openai) (4.64.1)\n",
            "Requirement already satisfied: requests>=2.20 in /usr/local/lib/python3.8/dist-packages (from openai) (2.23.0)\n",
            "Collecting pandas-stubs>=1.1.0.11\n",
            "  Downloading pandas_stubs-1.5.2.221124-py3-none-any.whl (146 kB)\n",
            "\u001b[K     |████████████████████████████████| 146 kB 16.8 MB/s \n",
            "\u001b[?25hRequirement already satisfied: et-xmlfile in /usr/local/lib/python3.8/dist-packages (from openpyxl>=3.0.7->openai) (1.1.0)\n",
            "Requirement already satisfied: python-dateutil>=2.7.3 in /usr/local/lib/python3.8/dist-packages (from pandas>=1.2.3->openai) (2.8.2)\n",
            "Requirement already satisfied: pytz>=2017.3 in /usr/local/lib/python3.8/dist-packages (from pandas>=1.2.3->openai) (2022.6)\n",
            "Collecting types-pytz>=2022.1.1\n",
            "  Downloading types_pytz-2022.6.0.1-py3-none-any.whl (4.7 kB)\n",
            "Requirement already satisfied: six>=1.5 in /usr/local/lib/python3.8/dist-packages (from python-dateutil>=2.7.3->pandas>=1.2.3->openai) (1.15.0)\n",
            "Requirement already satisfied: certifi>=2017.4.17 in /usr/local/lib/python3.8/dist-packages (from requests>=2.20->openai) (2022.9.24)\n",
            "Requirement already satisfied: urllib3!=1.25.0,!=1.25.1,<1.26,>=1.21.1 in /usr/local/lib/python3.8/dist-packages (from requests>=2.20->openai) (1.24.3)\n",
            "Requirement already satisfied: chardet<4,>=3.0.2 in /usr/local/lib/python3.8/dist-packages (from requests>=2.20->openai) (3.0.4)\n",
            "Requirement already satisfied: idna<3,>=2.5 in /usr/local/lib/python3.8/dist-packages (from requests>=2.20->openai) (2.10)\n",
            "Building wheels for collected packages: openai\n",
            "  Building wheel for openai (PEP 517) ... \u001b[?25l\u001b[?25hdone\n",
            "  Created wheel for openai: filename=openai-0.25.0-py3-none-any.whl size=55880 sha256=ab166ead3b915ca80681d961c221e414c03f6d68de9addee601e391e8f549781\n",
            "  Stored in directory: /root/.cache/pip/wheels/4b/92/33/6f57c7aae0b16875267999a50570e81f15eecec577ebe05a2e\n",
            "Successfully built openai\n",
            "Installing collected packages: types-pytz, pandas-stubs, openai\n",
            "Successfully installed openai-0.25.0 pandas-stubs-1.5.2.221124 types-pytz-2022.6.0.1\n"
          ]
        }
      ],
      "source": [
        "!pip install --upgrade openai"
      ]
    },
    {
      "cell_type": "code",
      "source": [
        "#@title OpenAI API Key\n",
        "import os\n",
        "\n",
        "os.environ[\"OPENAI_API_KEY\"] = ''"
      ],
      "metadata": {
        "id": "S7J2oJ0QaLno",
        "cellView": "form"
      },
      "execution_count": null,
      "outputs": []
    },
    {
      "cell_type": "code",
      "source": [
        "#@title Imported Packages and Libraries\n",
        "\n",
        "# API\n",
        "import requests\n",
        "import openai\n",
        "import os\n",
        "\n",
        "import tensorflow as tf\n",
        "import pandas as pd\n",
        "import numpy as np\n",
        "import matplotlib.pyplot as plt\n",
        "import re\n",
        "\n",
        "# nltk\n",
        "import nltk\n",
        "from nltk.corpus import stopwords\n",
        "from nltk.stem import WordNetLemmatizer\n",
        "from nltk.tokenize import word_tokenize\n",
        "from nltk.stem.snowball import SnowballStemmer\n",
        "\n",
        "# Scikit-learn\n",
        "from sklearn.model_selection import train_test_split\n",
        "from sklearn.preprocessing import LabelEncoder\n",
        "from sklearn.metrics import confusion_matrix, classification_report, accuracy_score\n",
        "from sklearn.manifold import TSNE\n",
        "from sklearn.feature_extraction.text import TfidfVectorizer\n",
        "\n",
        "# Word2vec\n",
        "import gensim\n",
        "\n",
        "# Keras\n",
        "from keras.preprocessing.text import Tokenizer\n",
        "from keras_preprocessing.sequence import pad_sequences\n",
        "from keras.models import Sequential\n",
        "from keras.layers import Activation, Dense, Dropout, Embedding, Flatten, Conv1D, MaxPooling1D, LSTM\n",
        "from keras import utils\n",
        "from keras.callbacks import ReduceLROnPlateau, EarlyStopping"
      ],
      "metadata": {
        "cellView": "form",
        "id": "qgM__dd4b5qz"
      },
      "execution_count": null,
      "outputs": []
    },
    {
      "cell_type": "code",
      "source": [
        "POSITIVE = \"POSITIVE\"\n",
        "NEGATIVE = \"NEGATIVE\"\n",
        "DATASET_COLUMNS = [\"target\", \"ids\", \"date\", \"flag\", \"user\", \"text\"]\n",
        "TEXT_CLEANING_RE = \"@\\S+|https?:\\S+|http?:\\S|[^A-Za-z0-9]+\"\n",
        "SEQUENCE_LENGTH = 300\n",
        "TRAIN_SIZE = 0.8"
      ],
      "metadata": {
        "id": "l7aLF4f6cBfp"
      },
      "execution_count": null,
      "outputs": []
    },
    {
      "cell_type": "code",
      "source": [
        "# UPLOAD THE FOLLOWING FILE: training.1600000.processed.noemoticon.csv\n",
        "\n",
        "from google.colab import files\n",
        "uploaded = files.upload()"
      ],
      "metadata": {
        "colab": {
          "base_uri": "https://localhost:8080/",
          "height": 38
        },
        "id": "bV81w6AkcYMu",
        "outputId": "56af9c66-6faa-4541-8a88-d3ac1db5bdf5"
      },
      "execution_count": null,
      "outputs": [
        {
          "output_type": "display_data",
          "data": {
            "text/plain": [
              "<IPython.core.display.HTML object>"
            ],
            "text/html": [
              "\n",
              "     <input type=\"file\" id=\"files-11291cd0-301d-4dac-95a0-f7b67898a0e4\" name=\"files[]\" multiple disabled\n",
              "        style=\"border:none\" />\n",
              "     <output id=\"result-11291cd0-301d-4dac-95a0-f7b67898a0e4\">\n",
              "      Upload widget is only available when the cell has been executed in the\n",
              "      current browser session. Please rerun this cell to enable.\n",
              "      </output>\n",
              "      <script>// Copyright 2017 Google LLC\n",
              "//\n",
              "// Licensed under the Apache License, Version 2.0 (the \"License\");\n",
              "// you may not use this file except in compliance with the License.\n",
              "// You may obtain a copy of the License at\n",
              "//\n",
              "//      http://www.apache.org/licenses/LICENSE-2.0\n",
              "//\n",
              "// Unless required by applicable law or agreed to in writing, software\n",
              "// distributed under the License is distributed on an \"AS IS\" BASIS,\n",
              "// WITHOUT WARRANTIES OR CONDITIONS OF ANY KIND, either express or implied.\n",
              "// See the License for the specific language governing permissions and\n",
              "// limitations under the License.\n",
              "\n",
              "/**\n",
              " * @fileoverview Helpers for google.colab Python module.\n",
              " */\n",
              "(function(scope) {\n",
              "function span(text, styleAttributes = {}) {\n",
              "  const element = document.createElement('span');\n",
              "  element.textContent = text;\n",
              "  for (const key of Object.keys(styleAttributes)) {\n",
              "    element.style[key] = styleAttributes[key];\n",
              "  }\n",
              "  return element;\n",
              "}\n",
              "\n",
              "// Max number of bytes which will be uploaded at a time.\n",
              "const MAX_PAYLOAD_SIZE = 100 * 1024;\n",
              "\n",
              "function _uploadFiles(inputId, outputId) {\n",
              "  const steps = uploadFilesStep(inputId, outputId);\n",
              "  const outputElement = document.getElementById(outputId);\n",
              "  // Cache steps on the outputElement to make it available for the next call\n",
              "  // to uploadFilesContinue from Python.\n",
              "  outputElement.steps = steps;\n",
              "\n",
              "  return _uploadFilesContinue(outputId);\n",
              "}\n",
              "\n",
              "// This is roughly an async generator (not supported in the browser yet),\n",
              "// where there are multiple asynchronous steps and the Python side is going\n",
              "// to poll for completion of each step.\n",
              "// This uses a Promise to block the python side on completion of each step,\n",
              "// then passes the result of the previous step as the input to the next step.\n",
              "function _uploadFilesContinue(outputId) {\n",
              "  const outputElement = document.getElementById(outputId);\n",
              "  const steps = outputElement.steps;\n",
              "\n",
              "  const next = steps.next(outputElement.lastPromiseValue);\n",
              "  return Promise.resolve(next.value.promise).then((value) => {\n",
              "    // Cache the last promise value to make it available to the next\n",
              "    // step of the generator.\n",
              "    outputElement.lastPromiseValue = value;\n",
              "    return next.value.response;\n",
              "  });\n",
              "}\n",
              "\n",
              "/**\n",
              " * Generator function which is called between each async step of the upload\n",
              " * process.\n",
              " * @param {string} inputId Element ID of the input file picker element.\n",
              " * @param {string} outputId Element ID of the output display.\n",
              " * @return {!Iterable<!Object>} Iterable of next steps.\n",
              " */\n",
              "function* uploadFilesStep(inputId, outputId) {\n",
              "  const inputElement = document.getElementById(inputId);\n",
              "  inputElement.disabled = false;\n",
              "\n",
              "  const outputElement = document.getElementById(outputId);\n",
              "  outputElement.innerHTML = '';\n",
              "\n",
              "  const pickedPromise = new Promise((resolve) => {\n",
              "    inputElement.addEventListener('change', (e) => {\n",
              "      resolve(e.target.files);\n",
              "    });\n",
              "  });\n",
              "\n",
              "  const cancel = document.createElement('button');\n",
              "  inputElement.parentElement.appendChild(cancel);\n",
              "  cancel.textContent = 'Cancel upload';\n",
              "  const cancelPromise = new Promise((resolve) => {\n",
              "    cancel.onclick = () => {\n",
              "      resolve(null);\n",
              "    };\n",
              "  });\n",
              "\n",
              "  // Wait for the user to pick the files.\n",
              "  const files = yield {\n",
              "    promise: Promise.race([pickedPromise, cancelPromise]),\n",
              "    response: {\n",
              "      action: 'starting',\n",
              "    }\n",
              "  };\n",
              "\n",
              "  cancel.remove();\n",
              "\n",
              "  // Disable the input element since further picks are not allowed.\n",
              "  inputElement.disabled = true;\n",
              "\n",
              "  if (!files) {\n",
              "    return {\n",
              "      response: {\n",
              "        action: 'complete',\n",
              "      }\n",
              "    };\n",
              "  }\n",
              "\n",
              "  for (const file of files) {\n",
              "    const li = document.createElement('li');\n",
              "    li.append(span(file.name, {fontWeight: 'bold'}));\n",
              "    li.append(span(\n",
              "        `(${file.type || 'n/a'}) - ${file.size} bytes, ` +\n",
              "        `last modified: ${\n",
              "            file.lastModifiedDate ? file.lastModifiedDate.toLocaleDateString() :\n",
              "                                    'n/a'} - `));\n",
              "    const percent = span('0% done');\n",
              "    li.appendChild(percent);\n",
              "\n",
              "    outputElement.appendChild(li);\n",
              "\n",
              "    const fileDataPromise = new Promise((resolve) => {\n",
              "      const reader = new FileReader();\n",
              "      reader.onload = (e) => {\n",
              "        resolve(e.target.result);\n",
              "      };\n",
              "      reader.readAsArrayBuffer(file);\n",
              "    });\n",
              "    // Wait for the data to be ready.\n",
              "    let fileData = yield {\n",
              "      promise: fileDataPromise,\n",
              "      response: {\n",
              "        action: 'continue',\n",
              "      }\n",
              "    };\n",
              "\n",
              "    // Use a chunked sending to avoid message size limits. See b/62115660.\n",
              "    let position = 0;\n",
              "    do {\n",
              "      const length = Math.min(fileData.byteLength - position, MAX_PAYLOAD_SIZE);\n",
              "      const chunk = new Uint8Array(fileData, position, length);\n",
              "      position += length;\n",
              "\n",
              "      const base64 = btoa(String.fromCharCode.apply(null, chunk));\n",
              "      yield {\n",
              "        response: {\n",
              "          action: 'append',\n",
              "          file: file.name,\n",
              "          data: base64,\n",
              "        },\n",
              "      };\n",
              "\n",
              "      let percentDone = fileData.byteLength === 0 ?\n",
              "          100 :\n",
              "          Math.round((position / fileData.byteLength) * 100);\n",
              "      percent.textContent = `${percentDone}% done`;\n",
              "\n",
              "    } while (position < fileData.byteLength);\n",
              "  }\n",
              "\n",
              "  // All done.\n",
              "  yield {\n",
              "    response: {\n",
              "      action: 'complete',\n",
              "    }\n",
              "  };\n",
              "}\n",
              "\n",
              "scope.google = scope.google || {};\n",
              "scope.google.colab = scope.google.colab || {};\n",
              "scope.google.colab._files = {\n",
              "  _uploadFiles,\n",
              "  _uploadFilesContinue,\n",
              "};\n",
              "})(self);\n",
              "</script> "
            ]
          },
          "metadata": {}
        }
      ]
    },
    {
      "cell_type": "code",
      "source": [
        "df = pd.read_csv('training.1600000.processed.noemoticon.csv', encoding = \"latin-1\", low_memory=False)\n",
        "  \n",
        "df_train, df_test = train_test_split(df, test_size=1-TRAIN_SIZE, random_state=42)\n",
        "\n",
        "df_train = df_train[['text','target']]\n",
        "df_test = df_test[['text','target']]\n",
        "\n",
        "# Reassigning 4='positive' 0='negative'\n",
        "df_train['target'] = df_train['target'].replace({4:'positive',0:'negative'})\n",
        "df_test['target'] = df_test['target'].replace({4:'positive',0:'negative'})"
      ],
      "metadata": {
        "id": "odx7d52ncZzn"
      },
      "execution_count": null,
      "outputs": []
    },
    {
      "cell_type": "code",
      "source": [
        "# Data Formatting for OpenAPI endpoint (see https://beta.openai.com/docs/guides/fine-tuning/preparing-your-dataset for details)\n",
        "df_train = df_train.rename(columns={'text':'prompt','target':'completion'})\n",
        "df_test = df_test.rename(columns={'text':'prompt','target':'completion'})\n",
        "\n",
        "train_prompts = [p+'\\n\\n###\\n\\n' for p in df_train['prompt']]\n",
        "test_prompts = [p+'\\n\\n###\\n\\n' for p in df_test['prompt']]\n",
        "df_train['prompt'] = train_prompts\n",
        "df_test['prompt'] = test_prompts\n",
        "\n",
        "train_comp = [' '+c+'###' for c in df_train['completion']]\n",
        "test_comp = [' '+c+'###' for c in df_test['completion']]\n",
        "df_train['completion'] = train_comp\n",
        "df_test['completion'] = test_comp"
      ],
      "metadata": {
        "id": "VlpJYp0D1UEN"
      },
      "execution_count": null,
      "outputs": []
    },
    {
      "cell_type": "code",
      "source": [
        "print(\"TRAIN size:\", len(df_train))\n",
        "print(\"TEST size:\", len(df_test))"
      ],
      "metadata": {
        "colab": {
          "base_uri": "https://localhost:8080/"
        },
        "id": "HRvEd_6xxL9C",
        "outputId": "ed207180-ab7e-4c02-9cb4-628acd11dd70"
      },
      "execution_count": null,
      "outputs": [
        {
          "output_type": "stream",
          "name": "stdout",
          "text": [
            "TRAIN size: 40000\n",
            "TEST size: 10000\n"
          ]
        }
      ]
    },
    {
      "cell_type": "code",
      "source": [
        "df_train.head()"
      ],
      "metadata": {
        "colab": {
          "base_uri": "https://localhost:8080/",
          "height": 206
        },
        "id": "s9L6JErosvJ_",
        "outputId": "94bec015-bb47-4ae1-8437-596b55067ea6"
      },
      "execution_count": null,
      "outputs": [
        {
          "output_type": "execute_result",
          "data": {
            "text/plain": [
              "                                                  prompt    completion\n",
              "39087  @MsBrownSknPopn Not at all. I'm The Man. \\n\\n#...   positive###\n",
              "30893  @CindiCupcaking headin' east - Boston \\n\\n###\\n\\n   positive###\n",
              "45278  is soon off to niagara-on-the-lake trip with c...   positive###\n",
              "16398  @skinnymarie and guess what ! ive got 20 % ! w...   negative###\n",
              "13653  needs Mom probs to ease up really soon...  htt...   negative###"
            ],
            "text/html": [
              "\n",
              "  <div id=\"df-2f031eb3-ea83-4dd9-bef5-8cd11b26e230\">\n",
              "    <div class=\"colab-df-container\">\n",
              "      <div>\n",
              "<style scoped>\n",
              "    .dataframe tbody tr th:only-of-type {\n",
              "        vertical-align: middle;\n",
              "    }\n",
              "\n",
              "    .dataframe tbody tr th {\n",
              "        vertical-align: top;\n",
              "    }\n",
              "\n",
              "    .dataframe thead th {\n",
              "        text-align: right;\n",
              "    }\n",
              "</style>\n",
              "<table border=\"1\" class=\"dataframe\">\n",
              "  <thead>\n",
              "    <tr style=\"text-align: right;\">\n",
              "      <th></th>\n",
              "      <th>prompt</th>\n",
              "      <th>completion</th>\n",
              "    </tr>\n",
              "  </thead>\n",
              "  <tbody>\n",
              "    <tr>\n",
              "      <th>39087</th>\n",
              "      <td>@MsBrownSknPopn Not at all. I'm The Man. \\n\\n#...</td>\n",
              "      <td>positive###</td>\n",
              "    </tr>\n",
              "    <tr>\n",
              "      <th>30893</th>\n",
              "      <td>@CindiCupcaking headin' east - Boston \\n\\n###\\n\\n</td>\n",
              "      <td>positive###</td>\n",
              "    </tr>\n",
              "    <tr>\n",
              "      <th>45278</th>\n",
              "      <td>is soon off to niagara-on-the-lake trip with c...</td>\n",
              "      <td>positive###</td>\n",
              "    </tr>\n",
              "    <tr>\n",
              "      <th>16398</th>\n",
              "      <td>@skinnymarie and guess what ! ive got 20 % ! w...</td>\n",
              "      <td>negative###</td>\n",
              "    </tr>\n",
              "    <tr>\n",
              "      <th>13653</th>\n",
              "      <td>needs Mom probs to ease up really soon...  htt...</td>\n",
              "      <td>negative###</td>\n",
              "    </tr>\n",
              "  </tbody>\n",
              "</table>\n",
              "</div>\n",
              "      <button class=\"colab-df-convert\" onclick=\"convertToInteractive('df-2f031eb3-ea83-4dd9-bef5-8cd11b26e230')\"\n",
              "              title=\"Convert this dataframe to an interactive table.\"\n",
              "              style=\"display:none;\">\n",
              "        \n",
              "  <svg xmlns=\"http://www.w3.org/2000/svg\" height=\"24px\"viewBox=\"0 0 24 24\"\n",
              "       width=\"24px\">\n",
              "    <path d=\"M0 0h24v24H0V0z\" fill=\"none\"/>\n",
              "    <path d=\"M18.56 5.44l.94 2.06.94-2.06 2.06-.94-2.06-.94-.94-2.06-.94 2.06-2.06.94zm-11 1L8.5 8.5l.94-2.06 2.06-.94-2.06-.94L8.5 2.5l-.94 2.06-2.06.94zm10 10l.94 2.06.94-2.06 2.06-.94-2.06-.94-.94-2.06-.94 2.06-2.06.94z\"/><path d=\"M17.41 7.96l-1.37-1.37c-.4-.4-.92-.59-1.43-.59-.52 0-1.04.2-1.43.59L10.3 9.45l-7.72 7.72c-.78.78-.78 2.05 0 2.83L4 21.41c.39.39.9.59 1.41.59.51 0 1.02-.2 1.41-.59l7.78-7.78 2.81-2.81c.8-.78.8-2.07 0-2.86zM5.41 20L4 18.59l7.72-7.72 1.47 1.35L5.41 20z\"/>\n",
              "  </svg>\n",
              "      </button>\n",
              "      \n",
              "  <style>\n",
              "    .colab-df-container {\n",
              "      display:flex;\n",
              "      flex-wrap:wrap;\n",
              "      gap: 12px;\n",
              "    }\n",
              "\n",
              "    .colab-df-convert {\n",
              "      background-color: #E8F0FE;\n",
              "      border: none;\n",
              "      border-radius: 50%;\n",
              "      cursor: pointer;\n",
              "      display: none;\n",
              "      fill: #1967D2;\n",
              "      height: 32px;\n",
              "      padding: 0 0 0 0;\n",
              "      width: 32px;\n",
              "    }\n",
              "\n",
              "    .colab-df-convert:hover {\n",
              "      background-color: #E2EBFA;\n",
              "      box-shadow: 0px 1px 2px rgba(60, 64, 67, 0.3), 0px 1px 3px 1px rgba(60, 64, 67, 0.15);\n",
              "      fill: #174EA6;\n",
              "    }\n",
              "\n",
              "    [theme=dark] .colab-df-convert {\n",
              "      background-color: #3B4455;\n",
              "      fill: #D2E3FC;\n",
              "    }\n",
              "\n",
              "    [theme=dark] .colab-df-convert:hover {\n",
              "      background-color: #434B5C;\n",
              "      box-shadow: 0px 1px 3px 1px rgba(0, 0, 0, 0.15);\n",
              "      filter: drop-shadow(0px 1px 2px rgba(0, 0, 0, 0.3));\n",
              "      fill: #FFFFFF;\n",
              "    }\n",
              "  </style>\n",
              "\n",
              "      <script>\n",
              "        const buttonEl =\n",
              "          document.querySelector('#df-2f031eb3-ea83-4dd9-bef5-8cd11b26e230 button.colab-df-convert');\n",
              "        buttonEl.style.display =\n",
              "          google.colab.kernel.accessAllowed ? 'block' : 'none';\n",
              "\n",
              "        async function convertToInteractive(key) {\n",
              "          const element = document.querySelector('#df-2f031eb3-ea83-4dd9-bef5-8cd11b26e230');\n",
              "          const dataTable =\n",
              "            await google.colab.kernel.invokeFunction('convertToInteractive',\n",
              "                                                     [key], {});\n",
              "          if (!dataTable) return;\n",
              "\n",
              "          const docLinkHtml = 'Like what you see? Visit the ' +\n",
              "            '<a target=\"_blank\" href=https://colab.research.google.com/notebooks/data_table.ipynb>data table notebook</a>'\n",
              "            + ' to learn more about interactive tables.';\n",
              "          element.innerHTML = '';\n",
              "          dataTable['output_type'] = 'display_data';\n",
              "          await google.colab.output.renderOutput(dataTable, element);\n",
              "          const docLink = document.createElement('div');\n",
              "          docLink.innerHTML = docLinkHtml;\n",
              "          element.appendChild(docLink);\n",
              "        }\n",
              "      </script>\n",
              "    </div>\n",
              "  </div>\n",
              "  "
            ]
          },
          "metadata": {},
          "execution_count": 66
        }
      ]
    },
    {
      "cell_type": "code",
      "source": [
        "df_test.head()"
      ],
      "metadata": {
        "colab": {
          "base_uri": "https://localhost:8080/",
          "height": 206
        },
        "id": "zxATwHAOsz2e",
        "outputId": "72365b3b-59f8-4de1-8dd3-494657e814f3"
      },
      "execution_count": null,
      "outputs": [
        {
          "output_type": "execute_result",
          "data": {
            "text/plain": [
              "                                                  prompt    completion\n",
              "33553  ...getting out of Hamburg...just leaving hotel...   positive###\n",
              "9427   @kerri_louise aww  i like the rain but the sun...   negative###\n",
              "199    Depressed to learn the BNP won a EU Parliament...   negative###\n",
              "12447  Try sleep again.. Really miss my beboonggg!  h...   negative###\n",
              "39489  @Fanny57 Then Dave jumped on me...  wasn't dis...   positive###"
            ],
            "text/html": [
              "\n",
              "  <div id=\"df-9d984f33-09b4-4238-80ef-e7e414756a82\">\n",
              "    <div class=\"colab-df-container\">\n",
              "      <div>\n",
              "<style scoped>\n",
              "    .dataframe tbody tr th:only-of-type {\n",
              "        vertical-align: middle;\n",
              "    }\n",
              "\n",
              "    .dataframe tbody tr th {\n",
              "        vertical-align: top;\n",
              "    }\n",
              "\n",
              "    .dataframe thead th {\n",
              "        text-align: right;\n",
              "    }\n",
              "</style>\n",
              "<table border=\"1\" class=\"dataframe\">\n",
              "  <thead>\n",
              "    <tr style=\"text-align: right;\">\n",
              "      <th></th>\n",
              "      <th>prompt</th>\n",
              "      <th>completion</th>\n",
              "    </tr>\n",
              "  </thead>\n",
              "  <tbody>\n",
              "    <tr>\n",
              "      <th>33553</th>\n",
              "      <td>...getting out of Hamburg...just leaving hotel...</td>\n",
              "      <td>positive###</td>\n",
              "    </tr>\n",
              "    <tr>\n",
              "      <th>9427</th>\n",
              "      <td>@kerri_louise aww  i like the rain but the sun...</td>\n",
              "      <td>negative###</td>\n",
              "    </tr>\n",
              "    <tr>\n",
              "      <th>199</th>\n",
              "      <td>Depressed to learn the BNP won a EU Parliament...</td>\n",
              "      <td>negative###</td>\n",
              "    </tr>\n",
              "    <tr>\n",
              "      <th>12447</th>\n",
              "      <td>Try sleep again.. Really miss my beboonggg!  h...</td>\n",
              "      <td>negative###</td>\n",
              "    </tr>\n",
              "    <tr>\n",
              "      <th>39489</th>\n",
              "      <td>@Fanny57 Then Dave jumped on me...  wasn't dis...</td>\n",
              "      <td>positive###</td>\n",
              "    </tr>\n",
              "  </tbody>\n",
              "</table>\n",
              "</div>\n",
              "      <button class=\"colab-df-convert\" onclick=\"convertToInteractive('df-9d984f33-09b4-4238-80ef-e7e414756a82')\"\n",
              "              title=\"Convert this dataframe to an interactive table.\"\n",
              "              style=\"display:none;\">\n",
              "        \n",
              "  <svg xmlns=\"http://www.w3.org/2000/svg\" height=\"24px\"viewBox=\"0 0 24 24\"\n",
              "       width=\"24px\">\n",
              "    <path d=\"M0 0h24v24H0V0z\" fill=\"none\"/>\n",
              "    <path d=\"M18.56 5.44l.94 2.06.94-2.06 2.06-.94-2.06-.94-.94-2.06-.94 2.06-2.06.94zm-11 1L8.5 8.5l.94-2.06 2.06-.94-2.06-.94L8.5 2.5l-.94 2.06-2.06.94zm10 10l.94 2.06.94-2.06 2.06-.94-2.06-.94-.94-2.06-.94 2.06-2.06.94z\"/><path d=\"M17.41 7.96l-1.37-1.37c-.4-.4-.92-.59-1.43-.59-.52 0-1.04.2-1.43.59L10.3 9.45l-7.72 7.72c-.78.78-.78 2.05 0 2.83L4 21.41c.39.39.9.59 1.41.59.51 0 1.02-.2 1.41-.59l7.78-7.78 2.81-2.81c.8-.78.8-2.07 0-2.86zM5.41 20L4 18.59l7.72-7.72 1.47 1.35L5.41 20z\"/>\n",
              "  </svg>\n",
              "      </button>\n",
              "      \n",
              "  <style>\n",
              "    .colab-df-container {\n",
              "      display:flex;\n",
              "      flex-wrap:wrap;\n",
              "      gap: 12px;\n",
              "    }\n",
              "\n",
              "    .colab-df-convert {\n",
              "      background-color: #E8F0FE;\n",
              "      border: none;\n",
              "      border-radius: 50%;\n",
              "      cursor: pointer;\n",
              "      display: none;\n",
              "      fill: #1967D2;\n",
              "      height: 32px;\n",
              "      padding: 0 0 0 0;\n",
              "      width: 32px;\n",
              "    }\n",
              "\n",
              "    .colab-df-convert:hover {\n",
              "      background-color: #E2EBFA;\n",
              "      box-shadow: 0px 1px 2px rgba(60, 64, 67, 0.3), 0px 1px 3px 1px rgba(60, 64, 67, 0.15);\n",
              "      fill: #174EA6;\n",
              "    }\n",
              "\n",
              "    [theme=dark] .colab-df-convert {\n",
              "      background-color: #3B4455;\n",
              "      fill: #D2E3FC;\n",
              "    }\n",
              "\n",
              "    [theme=dark] .colab-df-convert:hover {\n",
              "      background-color: #434B5C;\n",
              "      box-shadow: 0px 1px 3px 1px rgba(0, 0, 0, 0.15);\n",
              "      filter: drop-shadow(0px 1px 2px rgba(0, 0, 0, 0.3));\n",
              "      fill: #FFFFFF;\n",
              "    }\n",
              "  </style>\n",
              "\n",
              "      <script>\n",
              "        const buttonEl =\n",
              "          document.querySelector('#df-9d984f33-09b4-4238-80ef-e7e414756a82 button.colab-df-convert');\n",
              "        buttonEl.style.display =\n",
              "          google.colab.kernel.accessAllowed ? 'block' : 'none';\n",
              "\n",
              "        async function convertToInteractive(key) {\n",
              "          const element = document.querySelector('#df-9d984f33-09b4-4238-80ef-e7e414756a82');\n",
              "          const dataTable =\n",
              "            await google.colab.kernel.invokeFunction('convertToInteractive',\n",
              "                                                     [key], {});\n",
              "          if (!dataTable) return;\n",
              "\n",
              "          const docLinkHtml = 'Like what you see? Visit the ' +\n",
              "            '<a target=\"_blank\" href=https://colab.research.google.com/notebooks/data_table.ipynb>data table notebook</a>'\n",
              "            + ' to learn more about interactive tables.';\n",
              "          element.innerHTML = '';\n",
              "          dataTable['output_type'] = 'display_data';\n",
              "          await google.colab.output.renderOutput(dataTable, element);\n",
              "          const docLink = document.createElement('div');\n",
              "          docLink.innerHTML = docLinkHtml;\n",
              "          element.appendChild(docLink);\n",
              "        }\n",
              "      </script>\n",
              "    </div>\n",
              "  </div>\n",
              "  "
            ]
          },
          "metadata": {},
          "execution_count": 67
        }
      ]
    },
    {
      "cell_type": "code",
      "source": [
        "df_train.to_csv('train.csv', encoding='utf-8', index=False)\n",
        "df_test.to_csv('test.csv', encoding='utf-8', index=False)"
      ],
      "metadata": {
        "id": "P3nfuhsIqDDh"
      },
      "execution_count": null,
      "outputs": []
    },
    {
      "cell_type": "code",
      "source": [
        "!openai tools fine_tunes.prepare_data -f train.csv"
      ],
      "metadata": {
        "colab": {
          "base_uri": "https://localhost:8080/"
        },
        "collapsed": true,
        "id": "pmlK1hf9t_ip",
        "outputId": "b3b71124-008a-4b04-971b-20b22e313ab2"
      },
      "execution_count": null,
      "outputs": [
        {
          "output_type": "stream",
          "name": "stdout",
          "text": [
            "Analyzing...\n",
            "\n",
            "- Based on your file extension, your file is formatted as a CSV file\n",
            "- Your file contains 40000 prompt-completion pairs\n",
            "- Based on your data it seems like you're trying to fine-tune a model for classification\n",
            "- For classification, we recommend you try one of the faster and cheaper models, such as `ada`\n",
            "- For classification, you can estimate the expected model performance by keeping a held out dataset, which is not used for training\n",
            "- There are 65 duplicated prompt-completion sets. These are rows: [3470, 4526, 5313, 6658, 9373, 11068, 11899, 12399, 12739, 12829, 14555, 14732, 16009, 16193, 16486, 17420, 19049, 19166, 19571, 20208, 20978, 21544, 22055, 22104, 22756, 22864, 23645, 23877, 24193, 24416, 24550, 24616, 24884, 25027, 26532, 26647, 26738, 26984, 27760, 28751, 29017, 29389, 30193, 30531, 31973, 32890, 32959, 33325, 33554, 33610, 33692, 33818, 34085, 34088, 35346, 35407, 35822, 35840, 36561, 36909, 37140, 37467, 38412, 38740, 39099]\n",
            "- All prompts end with suffix `\\n\\n###\\n\\n`\n",
            "\n",
            "Based on the analysis we will perform the following actions:\n",
            "- [Necessary] Your format `CSV` will be converted to `JSONL`\n",
            "- [Recommended] Remove 65 duplicate rows [Y/n]: Y\n",
            "- [Recommended] Would you like to split into training and validation set? [Y/n]: Y\n",
            "\n",
            "\n",
            "Your data will be written to a new JSONL file. Proceed [Y/n]: Y\n",
            "\n",
            "Wrote modified files to `train_prepared_train.jsonl` and `train_prepared_valid.jsonl`\n",
            "Feel free to take a look!\n",
            "\n",
            "Now use that file when fine-tuning:\n",
            "> openai api fine_tunes.create -t \"train_prepared_train.jsonl\" -v \"train_prepared_valid.jsonl\" --compute_classification_metrics --classification_positive_class \" positive###\"\n",
            "\n",
            "After you’ve fine-tuned a model, remember that your prompt has to end with the indicator string `\\n\\n###\\n\\n` for the model to start generating completions, rather than continuing with the prompt. Make sure to include `stop=[\"tive###\"]` so that the generated texts ends at the expected place.\n",
            "Once your model starts training, it'll approximately take 16.01 hours to train a `curie` model, and less for `ada` and `babbage`. Queue will approximately take half an hour per job ahead of you.\n"
          ]
        }
      ]
    },
    {
      "cell_type": "code",
      "source": [
        "r1 = openai.File.create(file=open(\"train_prepared_train.jsonl\"), purpose='fine-tune')\n",
        "r2 = openai.File.create(file=open(\"train_prepared_valid.jsonl\"), purpose='fine-tune')\n",
        "\n",
        "print(r1)\n",
        "print(r2)"
      ],
      "metadata": {
        "colab": {
          "base_uri": "https://localhost:8080/"
        },
        "collapsed": true,
        "id": "AChX_9eH0Hrt",
        "outputId": "2467bb32-ffb6-4c07-ef6a-ea046e226b9b"
      },
      "execution_count": null,
      "outputs": [
        {
          "output_type": "stream",
          "name": "stdout",
          "text": [
            "{\n",
            "  \"bytes\": 4963103,\n",
            "  \"created_at\": 1670278028,\n",
            "  \"filename\": \"file\",\n",
            "  \"id\": \"file-OamfjrrbClxppaTNWjcEO382\",\n",
            "  \"object\": \"file\",\n",
            "  \"purpose\": \"fine-tune\",\n",
            "  \"status\": \"uploaded\",\n",
            "  \"status_details\": null\n",
            "}\n",
            "{\n",
            "  \"bytes\": 128253,\n",
            "  \"created_at\": 1670278053,\n",
            "  \"filename\": \"file\",\n",
            "  \"id\": \"file-p0fEHzhiGsbLIlWE9qIrfaOg\",\n",
            "  \"object\": \"file\",\n",
            "  \"purpose\": \"fine-tune\",\n",
            "  \"status\": \"uploaded\",\n",
            "  \"status_details\": null\n",
            "}\n"
          ]
        }
      ]
    },
    {
      "cell_type": "code",
      "source": [
        "#@title Create Fine Tune Job for GPT-3\n",
        "training_data = r1['id']\n",
        "validation_data= r2['id']\n",
        "\n",
        "def create_model(suffix, base_model, training_data, validation_data,epochs):\n",
        "  response = openai.FineTune.create(\n",
        "      training_file=training_data,\n",
        "      validation_file=validation_data,\n",
        "      model=base_model,\n",
        "      compute_classification_metrics=True,\n",
        "      classification_n_classes=2,\n",
        "      n_epochs=epochs,\n",
        "      suffix=suffix,\n",
        "      classification_positive_class=' positive###',\n",
        "      )\n",
        "  return response.to_dict()\n"
      ],
      "metadata": {
        "collapsed": true,
        "id": "WmlNKVeKAO2-"
      },
      "execution_count": null,
      "outputs": []
    },
    {
      "cell_type": "code",
      "source": [
        "#@title CREATE FINE TUNE JOB\n",
        "ft_response = create_model('Kenny','curie',training_data,validation_data,epochs=4)\n",
        "print(ft_response)"
      ],
      "metadata": {
        "colab": {
          "base_uri": "https://localhost:8080/"
        },
        "collapsed": true,
        "id": "IKQr6XwTtdK7",
        "outputId": "9784b776-0d17-450d-b731-270dd10ada79"
      },
      "execution_count": null,
      "outputs": [
        {
          "output_type": "stream",
          "name": "stdout",
          "text": [
            "{'object': 'fine-tune', 'id': 'ft-whtuzffJz8EwrrVKoJttjMYx', 'hyperparams': <OpenAIObject at 0x7f8f8623c8b0> JSON: {\n",
            "  \"batch_size\": null,\n",
            "  \"classification_n_classes\": 2,\n",
            "  \"classification_positive_class\": \" positive###\",\n",
            "  \"compute_classification_metrics\": true,\n",
            "  \"learning_rate_multiplier\": null,\n",
            "  \"n_epochs\": 4,\n",
            "  \"prompt_loss_weight\": 0.01\n",
            "}, 'organization_id': 'org-rvWBJysoXs405lvjgSp1U88F', 'model': 'curie', 'training_files': [<File file id=file-OamfjrrbClxppaTNWjcEO382 at 0x7f8f8623cc20> JSON: {\n",
            "  \"bytes\": 4963103,\n",
            "  \"created_at\": 1670278028,\n",
            "  \"filename\": \"file\",\n",
            "  \"id\": \"file-OamfjrrbClxppaTNWjcEO382\",\n",
            "  \"object\": \"file\",\n",
            "  \"purpose\": \"fine-tune\",\n",
            "  \"status\": \"processed\",\n",
            "  \"status_details\": null\n",
            "}], 'validation_files': [<File file id=file-p0fEHzhiGsbLIlWE9qIrfaOg at 0x7f8f86244680> JSON: {\n",
            "  \"bytes\": 128253,\n",
            "  \"created_at\": 1670278053,\n",
            "  \"filename\": \"file\",\n",
            "  \"id\": \"file-p0fEHzhiGsbLIlWE9qIrfaOg\",\n",
            "  \"object\": \"file\",\n",
            "  \"purpose\": \"fine-tune\",\n",
            "  \"status\": \"processed\",\n",
            "  \"status_details\": null\n",
            "}], 'result_files': [], 'created_at': 1670278358, 'updated_at': 1670278358, 'status': 'pending', 'fine_tuned_model': None, 'events': [<OpenAIObject fine-tune-event at 0x7f8f86244720> JSON: {\n",
            "  \"created_at\": 1670278358,\n",
            "  \"level\": \"info\",\n",
            "  \"message\": \"Created fine-tune: ft-whtuzffJz8EwrrVKoJttjMYx\",\n",
            "  \"object\": \"fine-tune-event\"\n",
            "}]}\n"
          ]
        }
      ]
    },
    {
      "cell_type": "code",
      "source": [
        "job_id = ft_response['id']\n",
        "print(job_id)"
      ],
      "metadata": {
        "colab": {
          "base_uri": "https://localhost:8080/"
        },
        "id": "Cex6K7eszLnY",
        "outputId": "8d557d14-f639-4d60-bf22-7cf0bc0bc68d"
      },
      "execution_count": null,
      "outputs": [
        {
          "output_type": "stream",
          "name": "stdout",
          "text": [
            "ft-whtuzffJz8EwrrVKoJttjMYx\n"
          ]
        }
      ]
    },
    {
      "cell_type": "code",
      "source": [
        "# Retrieve status of fine-tune job\n",
        "def retrieve(job_id):\n",
        "  return openai.FineTune.retrieve(id=job_id)\n",
        "\n",
        "def cancel(job_id):\n",
        "  return openai.FineTune.cancel(id=job_id)"
      ],
      "metadata": {
        "collapsed": true,
        "id": "h86C-Wo4CEf1"
      },
      "execution_count": null,
      "outputs": []
    },
    {
      "cell_type": "code",
      "source": [
        "#@title CANCEL FINE-TUNE JOB\n",
        "\n",
        "cancel(job_id)"
      ],
      "metadata": {
        "colab": {
          "base_uri": "https://localhost:8080/",
          "height": 378
        },
        "collapsed": true,
        "cellView": "form",
        "id": "nCCvBr_E13nq",
        "outputId": "9935554e-c839-4bee-8a5c-128f8e82ab52"
      },
      "execution_count": null,
      "outputs": [
        {
          "output_type": "error",
          "ename": "InvalidRequestError",
          "evalue": "ignored",
          "traceback": [
            "\u001b[0;31m---------------------------------------------------------------------------\u001b[0m",
            "\u001b[0;31mInvalidRequestError\u001b[0m                       Traceback (most recent call last)",
            "\u001b[0;32m<ipython-input-27-8325aa7330f8>\u001b[0m in \u001b[0;36m<module>\u001b[0;34m\u001b[0m\n\u001b[1;32m      1\u001b[0m \u001b[0;31m#@title CANCEL FINE-TUNE JOB\u001b[0m\u001b[0;34m\u001b[0m\u001b[0;34m\u001b[0m\u001b[0;34m\u001b[0m\u001b[0m\n\u001b[1;32m      2\u001b[0m \u001b[0;34m\u001b[0m\u001b[0m\n\u001b[0;32m----> 3\u001b[0;31m \u001b[0mcancel\u001b[0m\u001b[0;34m(\u001b[0m\u001b[0mjob_id\u001b[0m\u001b[0;34m)\u001b[0m\u001b[0;34m\u001b[0m\u001b[0;34m\u001b[0m\u001b[0m\n\u001b[0m",
            "\u001b[0;32m<ipython-input-21-9269c3c345e6>\u001b[0m in \u001b[0;36mcancel\u001b[0;34m(job_id)\u001b[0m\n\u001b[1;32m      4\u001b[0m \u001b[0;34m\u001b[0m\u001b[0m\n\u001b[1;32m      5\u001b[0m \u001b[0;32mdef\u001b[0m \u001b[0mcancel\u001b[0m\u001b[0;34m(\u001b[0m\u001b[0mjob_id\u001b[0m\u001b[0;34m)\u001b[0m\u001b[0;34m:\u001b[0m\u001b[0;34m\u001b[0m\u001b[0;34m\u001b[0m\u001b[0m\n\u001b[0;32m----> 6\u001b[0;31m   \u001b[0;32mreturn\u001b[0m \u001b[0mopenai\u001b[0m\u001b[0;34m.\u001b[0m\u001b[0mFineTune\u001b[0m\u001b[0;34m.\u001b[0m\u001b[0mcancel\u001b[0m\u001b[0;34m(\u001b[0m\u001b[0mid\u001b[0m\u001b[0;34m=\u001b[0m\u001b[0mjob_id\u001b[0m\u001b[0;34m)\u001b[0m\u001b[0;34m\u001b[0m\u001b[0;34m\u001b[0m\u001b[0m\n\u001b[0m",
            "\u001b[0;32m/usr/local/lib/python3.8/dist-packages/openai/api_resources/fine_tune.py\u001b[0m in \u001b[0;36mcancel\u001b[0;34m(cls, id, api_key, api_type, request_id, api_version, **params)\u001b[0m\n\u001b[1;32m     45\u001b[0m \u001b[0;34m\u001b[0m\u001b[0m\n\u001b[1;32m     46\u001b[0m         \u001b[0minstance\u001b[0m \u001b[0;34m=\u001b[0m \u001b[0mcls\u001b[0m\u001b[0;34m(\u001b[0m\u001b[0mid\u001b[0m\u001b[0;34m,\u001b[0m \u001b[0mapi_key\u001b[0m\u001b[0;34m,\u001b[0m \u001b[0;34m**\u001b[0m\u001b[0mparams\u001b[0m\u001b[0;34m)\u001b[0m\u001b[0;34m\u001b[0m\u001b[0;34m\u001b[0m\u001b[0m\n\u001b[0;32m---> 47\u001b[0;31m         \u001b[0;32mreturn\u001b[0m \u001b[0minstance\u001b[0m\u001b[0;34m.\u001b[0m\u001b[0mrequest\u001b[0m\u001b[0;34m(\u001b[0m\u001b[0;34m\"post\"\u001b[0m\u001b[0;34m,\u001b[0m \u001b[0murl\u001b[0m\u001b[0;34m,\u001b[0m \u001b[0mrequest_id\u001b[0m\u001b[0;34m=\u001b[0m\u001b[0mrequest_id\u001b[0m\u001b[0;34m)\u001b[0m\u001b[0;34m\u001b[0m\u001b[0;34m\u001b[0m\u001b[0m\n\u001b[0m\u001b[1;32m     48\u001b[0m \u001b[0;34m\u001b[0m\u001b[0m\n\u001b[1;32m     49\u001b[0m     \u001b[0;34m@\u001b[0m\u001b[0mclassmethod\u001b[0m\u001b[0;34m\u001b[0m\u001b[0;34m\u001b[0m\u001b[0m\n",
            "\u001b[0;32m/usr/local/lib/python3.8/dist-packages/openai/openai_object.py\u001b[0m in \u001b[0;36mrequest\u001b[0;34m(self, method, url, params, headers, stream, plain_old_data, request_id, request_timeout)\u001b[0m\n\u001b[1;32m    177\u001b[0m             \u001b[0morganization\u001b[0m\u001b[0;34m=\u001b[0m\u001b[0mself\u001b[0m\u001b[0;34m.\u001b[0m\u001b[0morganization\u001b[0m\u001b[0;34m,\u001b[0m\u001b[0;34m\u001b[0m\u001b[0;34m\u001b[0m\u001b[0m\n\u001b[1;32m    178\u001b[0m         )\n\u001b[0;32m--> 179\u001b[0;31m         response, stream, api_key = requestor.request(\n\u001b[0m\u001b[1;32m    180\u001b[0m             \u001b[0mmethod\u001b[0m\u001b[0;34m,\u001b[0m\u001b[0;34m\u001b[0m\u001b[0;34m\u001b[0m\u001b[0m\n\u001b[1;32m    181\u001b[0m             \u001b[0murl\u001b[0m\u001b[0;34m,\u001b[0m\u001b[0;34m\u001b[0m\u001b[0;34m\u001b[0m\u001b[0m\n",
            "\u001b[0;32m/usr/local/lib/python3.8/dist-packages/openai/api_requestor.py\u001b[0m in \u001b[0;36mrequest\u001b[0;34m(self, method, url, params, headers, files, stream, request_id, request_timeout)\u001b[0m\n\u001b[1;32m    179\u001b[0m             \u001b[0mrequest_timeout\u001b[0m\u001b[0;34m=\u001b[0m\u001b[0mrequest_timeout\u001b[0m\u001b[0;34m,\u001b[0m\u001b[0;34m\u001b[0m\u001b[0;34m\u001b[0m\u001b[0m\n\u001b[1;32m    180\u001b[0m         )\n\u001b[0;32m--> 181\u001b[0;31m         \u001b[0mresp\u001b[0m\u001b[0;34m,\u001b[0m \u001b[0mgot_stream\u001b[0m \u001b[0;34m=\u001b[0m \u001b[0mself\u001b[0m\u001b[0;34m.\u001b[0m\u001b[0m_interpret_response\u001b[0m\u001b[0;34m(\u001b[0m\u001b[0mresult\u001b[0m\u001b[0;34m,\u001b[0m \u001b[0mstream\u001b[0m\u001b[0;34m)\u001b[0m\u001b[0;34m\u001b[0m\u001b[0;34m\u001b[0m\u001b[0m\n\u001b[0m\u001b[1;32m    182\u001b[0m         \u001b[0;32mreturn\u001b[0m \u001b[0mresp\u001b[0m\u001b[0;34m,\u001b[0m \u001b[0mgot_stream\u001b[0m\u001b[0;34m,\u001b[0m \u001b[0mself\u001b[0m\u001b[0;34m.\u001b[0m\u001b[0mapi_key\u001b[0m\u001b[0;34m\u001b[0m\u001b[0;34m\u001b[0m\u001b[0m\n\u001b[1;32m    183\u001b[0m \u001b[0;34m\u001b[0m\u001b[0m\n",
            "\u001b[0;32m/usr/local/lib/python3.8/dist-packages/openai/api_requestor.py\u001b[0m in \u001b[0;36m_interpret_response\u001b[0;34m(self, result, stream)\u001b[0m\n\u001b[1;32m    394\u001b[0m         \u001b[0;32melse\u001b[0m\u001b[0;34m:\u001b[0m\u001b[0;34m\u001b[0m\u001b[0;34m\u001b[0m\u001b[0m\n\u001b[1;32m    395\u001b[0m             return (\n\u001b[0;32m--> 396\u001b[0;31m                 self._interpret_response_line(\n\u001b[0m\u001b[1;32m    397\u001b[0m                     \u001b[0mresult\u001b[0m\u001b[0;34m.\u001b[0m\u001b[0mcontent\u001b[0m\u001b[0;34m,\u001b[0m \u001b[0mresult\u001b[0m\u001b[0;34m.\u001b[0m\u001b[0mstatus_code\u001b[0m\u001b[0;34m,\u001b[0m \u001b[0mresult\u001b[0m\u001b[0;34m.\u001b[0m\u001b[0mheaders\u001b[0m\u001b[0;34m,\u001b[0m \u001b[0mstream\u001b[0m\u001b[0;34m=\u001b[0m\u001b[0;32mFalse\u001b[0m\u001b[0;34m\u001b[0m\u001b[0;34m\u001b[0m\u001b[0m\n\u001b[1;32m    398\u001b[0m                 ),\n",
            "\u001b[0;32m/usr/local/lib/python3.8/dist-packages/openai/api_requestor.py\u001b[0m in \u001b[0;36m_interpret_response_line\u001b[0;34m(self, rbody, rcode, rheaders, stream)\u001b[0m\n\u001b[1;32m    427\u001b[0m         \u001b[0mstream_error\u001b[0m \u001b[0;34m=\u001b[0m \u001b[0mstream\u001b[0m \u001b[0;32mand\u001b[0m \u001b[0;34m\"error\"\u001b[0m \u001b[0;32min\u001b[0m \u001b[0mresp\u001b[0m\u001b[0;34m.\u001b[0m\u001b[0mdata\u001b[0m\u001b[0;34m\u001b[0m\u001b[0;34m\u001b[0m\u001b[0m\n\u001b[1;32m    428\u001b[0m         \u001b[0;32mif\u001b[0m \u001b[0mstream_error\u001b[0m \u001b[0;32mor\u001b[0m \u001b[0;32mnot\u001b[0m \u001b[0;36m200\u001b[0m \u001b[0;34m<=\u001b[0m \u001b[0mrcode\u001b[0m \u001b[0;34m<\u001b[0m \u001b[0;36m300\u001b[0m\u001b[0;34m:\u001b[0m\u001b[0;34m\u001b[0m\u001b[0;34m\u001b[0m\u001b[0m\n\u001b[0;32m--> 429\u001b[0;31m             raise self.handle_error_response(\n\u001b[0m\u001b[1;32m    430\u001b[0m                 \u001b[0mrbody\u001b[0m\u001b[0;34m,\u001b[0m \u001b[0mrcode\u001b[0m\u001b[0;34m,\u001b[0m \u001b[0mresp\u001b[0m\u001b[0;34m.\u001b[0m\u001b[0mdata\u001b[0m\u001b[0;34m,\u001b[0m \u001b[0mrheaders\u001b[0m\u001b[0;34m,\u001b[0m \u001b[0mstream_error\u001b[0m\u001b[0;34m=\u001b[0m\u001b[0mstream_error\u001b[0m\u001b[0;34m\u001b[0m\u001b[0;34m\u001b[0m\u001b[0m\n\u001b[1;32m    431\u001b[0m             )\n",
            "\u001b[0;31mInvalidRequestError\u001b[0m: Cannot cancel a job ft-oo6W9HOfrQ6rn9jyNKXf40tH that already has status \"failed\"."
          ]
        }
      ]
    },
    {
      "cell_type": "code",
      "source": [
        "retrieval = retrieve(job_id)\n",
        "print(retrieval)"
      ],
      "metadata": {
        "colab": {
          "base_uri": "https://localhost:8080/"
        },
        "id": "E7EykZMNzd_J",
        "outputId": "24e2fe18-926c-4ea9-bc46-da427a729a0e"
      },
      "execution_count": null,
      "outputs": [
        {
          "output_type": "stream",
          "name": "stdout",
          "text": [
            "{\n",
            "  \"created_at\": 1670278358,\n",
            "  \"events\": [\n",
            "    {\n",
            "      \"created_at\": 1670278358,\n",
            "      \"level\": \"info\",\n",
            "      \"message\": \"Created fine-tune: ft-whtuzffJz8EwrrVKoJttjMYx\",\n",
            "      \"object\": \"fine-tune-event\"\n",
            "    },\n",
            "    {\n",
            "      \"created_at\": 1670278360,\n",
            "      \"level\": \"info\",\n",
            "      \"message\": \"Fine-tune costs $12.82\",\n",
            "      \"object\": \"fine-tune-event\"\n",
            "    },\n",
            "    {\n",
            "      \"created_at\": 1670278361,\n",
            "      \"level\": \"info\",\n",
            "      \"message\": \"Fine-tune enqueued. Queue number: 0\",\n",
            "      \"object\": \"fine-tune-event\"\n",
            "    },\n",
            "    {\n",
            "      \"created_at\": 1670278362,\n",
            "      \"level\": \"info\",\n",
            "      \"message\": \"Fine-tune started\",\n",
            "      \"object\": \"fine-tune-event\"\n",
            "    },\n",
            "    {\n",
            "      \"created_at\": 1670279080,\n",
            "      \"level\": \"info\",\n",
            "      \"message\": \"Completed epoch 1/4\",\n",
            "      \"object\": \"fine-tune-event\"\n",
            "    },\n",
            "    {\n",
            "      \"created_at\": 1670279715,\n",
            "      \"level\": \"info\",\n",
            "      \"message\": \"Completed epoch 2/4\",\n",
            "      \"object\": \"fine-tune-event\"\n",
            "    },\n",
            "    {\n",
            "      \"created_at\": 1670280348,\n",
            "      \"level\": \"info\",\n",
            "      \"message\": \"Completed epoch 3/4\",\n",
            "      \"object\": \"fine-tune-event\"\n",
            "    },\n",
            "    {\n",
            "      \"created_at\": 1670280979,\n",
            "      \"level\": \"info\",\n",
            "      \"message\": \"Completed epoch 4/4\",\n",
            "      \"object\": \"fine-tune-event\"\n",
            "    },\n",
            "    {\n",
            "      \"created_at\": 1670281017,\n",
            "      \"level\": \"info\",\n",
            "      \"message\": \"Uploaded model: curie:ft-personal:kenny-2022-12-05-22-56-57\",\n",
            "      \"object\": \"fine-tune-event\"\n",
            "    },\n",
            "    {\n",
            "      \"created_at\": 1670281018,\n",
            "      \"level\": \"info\",\n",
            "      \"message\": \"Uploaded result file: file-iUlsBba6hVeskRACVhO5AeEZ\",\n",
            "      \"object\": \"fine-tune-event\"\n",
            "    },\n",
            "    {\n",
            "      \"created_at\": 1670281018,\n",
            "      \"level\": \"info\",\n",
            "      \"message\": \"Fine-tune succeeded\",\n",
            "      \"object\": \"fine-tune-event\"\n",
            "    }\n",
            "  ],\n",
            "  \"fine_tuned_model\": \"curie:ft-personal:kenny-2022-12-05-22-56-57\",\n",
            "  \"hyperparams\": {\n",
            "    \"batch_size\": 64,\n",
            "    \"classification_n_classes\": 2,\n",
            "    \"classification_positive_class\": \" positive###\",\n",
            "    \"compute_classification_metrics\": true,\n",
            "    \"learning_rate_multiplier\": 0.1,\n",
            "    \"n_epochs\": 4,\n",
            "    \"prompt_loss_weight\": 0.01\n",
            "  },\n",
            "  \"id\": \"ft-whtuzffJz8EwrrVKoJttjMYx\",\n",
            "  \"model\": \"curie\",\n",
            "  \"object\": \"fine-tune\",\n",
            "  \"organization_id\": \"org-rvWBJysoXs405lvjgSp1U88F\",\n",
            "  \"result_files\": [\n",
            "    {\n",
            "      \"bytes\": 171283,\n",
            "      \"created_at\": 1670281018,\n",
            "      \"filename\": \"compiled_results.csv\",\n",
            "      \"id\": \"file-iUlsBba6hVeskRACVhO5AeEZ\",\n",
            "      \"object\": \"file\",\n",
            "      \"purpose\": \"fine-tune-results\",\n",
            "      \"status\": \"processed\",\n",
            "      \"status_details\": null\n",
            "    }\n",
            "  ],\n",
            "  \"status\": \"succeeded\",\n",
            "  \"training_files\": [\n",
            "    {\n",
            "      \"bytes\": 4963103,\n",
            "      \"created_at\": 1670278028,\n",
            "      \"filename\": \"file\",\n",
            "      \"id\": \"file-OamfjrrbClxppaTNWjcEO382\",\n",
            "      \"object\": \"file\",\n",
            "      \"purpose\": \"fine-tune\",\n",
            "      \"status\": \"processed\",\n",
            "      \"status_details\": null\n",
            "    }\n",
            "  ],\n",
            "  \"updated_at\": 1670281018,\n",
            "  \"validation_files\": [\n",
            "    {\n",
            "      \"bytes\": 128253,\n",
            "      \"created_at\": 1670278053,\n",
            "      \"filename\": \"file\",\n",
            "      \"id\": \"file-p0fEHzhiGsbLIlWE9qIrfaOg\",\n",
            "      \"object\": \"file\",\n",
            "      \"purpose\": \"fine-tune\",\n",
            "      \"status\": \"processed\",\n",
            "      \"status_details\": null\n",
            "    }\n",
            "  ]\n",
            "}\n"
          ]
        }
      ]
    },
    {
      "cell_type": "code",
      "source": [
        "# get model results file\n",
        "def results(result_file):\n",
        "  byte = openai.File.download(id=result_file)\n",
        "  csv = str(byte)[2:-1]\n",
        "  csv = csv.replace('\\\\t', ',').replace('\\\\n', '\\n')\n",
        "  print(csv, file=open('results.csv', 'w'))"
      ],
      "metadata": {
        "id": "iS3nxpItItpm"
      },
      "execution_count": null,
      "outputs": []
    },
    {
      "cell_type": "code",
      "source": [
        "result_id = retrieval['result_files'][0]['id']\n",
        "model_id = retrieval['fine_tuned_model']\n",
        "#results(result_id)\n",
        "print(model_id)"
      ],
      "metadata": {
        "colab": {
          "base_uri": "https://localhost:8080/"
        },
        "id": "lUO-FNzOgrWC",
        "outputId": "9e566d4a-4fc4-4290-bb3b-75896de20be6"
      },
      "execution_count": null,
      "outputs": [
        {
          "output_type": "stream",
          "name": "stdout",
          "text": [
            "curie:ft-personal:kenny-2022-12-05-22-56-57\n"
          ]
        }
      ]
    },
    {
      "cell_type": "code",
      "source": [
        "# Use this to get completion of given prompt and model\n",
        "def completion(prompt,model):\n",
        "  response = openai.Completion.create(\n",
        "              model=model,\n",
        "              prompt=prompt+\"\\n\\n###\\n\\n\",\n",
        "              max_tokens=1,\n",
        "              temperature=0\n",
        "            )\n",
        "  return response.to_dict()['choices'][0]['text'][1:]"
      ],
      "metadata": {
        "id": "LhUpYI64OLuE"
      },
      "execution_count": null,
      "outputs": []
    },
    {
      "cell_type": "code",
      "source": [
        "from openai.error import RateLimitError\n",
        "import time\n",
        "from tqdm import tqdm \n",
        "\n",
        "def test_accuracy(model):\n",
        "  correct = 0\n",
        "  total = 0\n",
        "  \n",
        "  for row in tqdm(df_test.itertuples(index=False)):\n",
        "    total += 1\n",
        "    # Can only perform 60 completions per minute\n",
        "    while True:\n",
        "      try:\n",
        "        result = completion(row[0],model)\n",
        "      except RateLimitError:\n",
        "        print('Encountered RateLimitError: Waiting for 65 seconds...')\n",
        "        print(f'Current accuracy:{correct/total}')\n",
        "        time.sleep(65)\n",
        "        continue\n",
        "      break \n",
        "\n",
        "    c1 = 'positive' in result\n",
        "    c2 = 'negative' in result \n",
        "    if not c1 ^ c2:\n",
        "      raise Exception('Model did not generate valid completion')\n",
        "      break\n",
        "    elif result in row[1]:\n",
        "      correct += 1\n",
        "  return correct/len(df_test)\n"
      ],
      "metadata": {
        "id": "AnJLbV2oXG6s"
      },
      "execution_count": null,
      "outputs": []
    },
    {
      "cell_type": "code",
      "source": [
        "test_accuracy(model_id)"
      ],
      "metadata": {
        "colab": {
          "base_uri": "https://localhost:8080/",
          "height": 1000
        },
        "id": "LSz36Zz0WlLf",
        "outputId": "f83ca8cb-bea6-4d73-f473-2ca3c9c779bf"
      },
      "execution_count": null,
      "outputs": [
        {
          "output_type": "stream",
          "name": "stderr",
          "text": [
            "43it [00:04, 14.62it/s]"
          ]
        },
        {
          "output_type": "stream",
          "name": "stdout",
          "text": [
            "Encountered RateLimitError: Waiting for 65 seconds...\n",
            "Current accuracy:0.8\n"
          ]
        },
        {
          "output_type": "stream",
          "name": "stderr",
          "text": [
            "85it [01:13, 12.36it/s]"
          ]
        },
        {
          "output_type": "stream",
          "name": "stdout",
          "text": [
            "Encountered RateLimitError: Waiting for 65 seconds...\n",
            "Current accuracy:0.8735632183908046\n"
          ]
        },
        {
          "output_type": "stream",
          "name": "stderr",
          "text": [
            "132it [02:22, 15.07it/s]"
          ]
        },
        {
          "output_type": "stream",
          "name": "stdout",
          "text": [
            "Encountered RateLimitError: Waiting for 65 seconds...\n",
            "Current accuracy:0.8796992481203008\n"
          ]
        },
        {
          "output_type": "stream",
          "name": "stderr",
          "text": [
            "182it [03:30, 14.24it/s]"
          ]
        },
        {
          "output_type": "stream",
          "name": "stdout",
          "text": [
            "Encountered RateLimitError: Waiting for 65 seconds...\n",
            "Current accuracy:0.8913043478260869\n"
          ]
        },
        {
          "output_type": "stream",
          "name": "stderr",
          "text": [
            "226it [04:40, 13.63it/s]"
          ]
        },
        {
          "output_type": "stream",
          "name": "stdout",
          "text": [
            "Encountered RateLimitError: Waiting for 65 seconds...\n",
            "Current accuracy:0.8942731277533039\n"
          ]
        },
        {
          "output_type": "stream",
          "name": "stderr",
          "text": [
            "275it [05:49, 13.74it/s]"
          ]
        },
        {
          "output_type": "stream",
          "name": "stdout",
          "text": [
            "Encountered RateLimitError: Waiting for 65 seconds...\n",
            "Current accuracy:0.8913043478260869\n"
          ]
        },
        {
          "output_type": "stream",
          "name": "stderr",
          "text": [
            "320it [06:58, 13.00it/s]"
          ]
        },
        {
          "output_type": "stream",
          "name": "stdout",
          "text": [
            "Encountered RateLimitError: Waiting for 65 seconds...\n",
            "Current accuracy:0.9003115264797508\n"
          ]
        },
        {
          "output_type": "stream",
          "name": "stderr",
          "text": [
            "374it [08:07, 14.78it/s]"
          ]
        },
        {
          "output_type": "stream",
          "name": "stdout",
          "text": [
            "Encountered RateLimitError: Waiting for 65 seconds...\n",
            "Current accuracy:0.9042553191489362\n"
          ]
        },
        {
          "output_type": "stream",
          "name": "stderr",
          "text": [
            "430it [09:16, 15.22it/s]"
          ]
        },
        {
          "output_type": "stream",
          "name": "stdout",
          "text": [
            "Encountered RateLimitError: Waiting for 65 seconds...\n",
            "Current accuracy:0.9050925925925926\n"
          ]
        },
        {
          "output_type": "stream",
          "name": "stderr",
          "text": [
            "484it [10:25, 14.92it/s]"
          ]
        },
        {
          "output_type": "stream",
          "name": "stdout",
          "text": [
            "Encountered RateLimitError: Waiting for 65 seconds...\n",
            "Current accuracy:0.9072164948453608\n"
          ]
        },
        {
          "output_type": "stream",
          "name": "stderr",
          "text": [
            "530it [11:34, 14.65it/s]"
          ]
        },
        {
          "output_type": "stream",
          "name": "stdout",
          "text": [
            "Encountered RateLimitError: Waiting for 65 seconds...\n",
            "Current accuracy:0.9135338345864662\n"
          ]
        },
        {
          "output_type": "stream",
          "name": "stderr",
          "text": [
            "574it [12:42, 13.87it/s]"
          ]
        },
        {
          "output_type": "stream",
          "name": "stdout",
          "text": [
            "Encountered RateLimitError: Waiting for 65 seconds...\n",
            "Current accuracy:0.9026086956521739\n"
          ]
        },
        {
          "output_type": "stream",
          "name": "stderr",
          "text": [
            "615it [13:51, 13.02it/s]"
          ]
        },
        {
          "output_type": "stream",
          "name": "stdout",
          "text": [
            "Encountered RateLimitError: Waiting for 65 seconds...\n",
            "Current accuracy:0.9059967585089141\n"
          ]
        },
        {
          "output_type": "stream",
          "name": "stderr",
          "text": [
            "668it [15:00, 14.39it/s]"
          ]
        },
        {
          "output_type": "stream",
          "name": "stdout",
          "text": [
            "Encountered RateLimitError: Waiting for 65 seconds...\n",
            "Current accuracy:0.8998505231689088\n"
          ]
        },
        {
          "output_type": "stream",
          "name": "stderr",
          "text": [
            "722it [16:09, 14.56it/s]"
          ]
        },
        {
          "output_type": "stream",
          "name": "stdout",
          "text": [
            "Encountered RateLimitError: Waiting for 65 seconds...\n",
            "Current accuracy:0.9004149377593361\n"
          ]
        },
        {
          "output_type": "stream",
          "name": "stderr",
          "text": [
            "766it [17:18, 13.72it/s]"
          ]
        },
        {
          "output_type": "stream",
          "name": "stdout",
          "text": [
            "Encountered RateLimitError: Waiting for 65 seconds...\n",
            "Current accuracy:0.9036458333333334\n"
          ]
        },
        {
          "output_type": "stream",
          "name": "stderr",
          "text": [
            "816it [18:27, 14.98it/s]"
          ]
        },
        {
          "output_type": "stream",
          "name": "stdout",
          "text": [
            "Encountered RateLimitError: Waiting for 65 seconds...\n",
            "Current accuracy:0.9008567931456548\n"
          ]
        },
        {
          "output_type": "stream",
          "name": "stderr",
          "text": [
            "857it [19:35, 13.71it/s]"
          ]
        },
        {
          "output_type": "stream",
          "name": "stdout",
          "text": [
            "Encountered RateLimitError: Waiting for 65 seconds...\n",
            "Current accuracy:0.9010477299185099\n"
          ]
        },
        {
          "output_type": "stream",
          "name": "stderr",
          "text": [
            "901it [20:44, 12.91it/s]"
          ]
        },
        {
          "output_type": "stream",
          "name": "stdout",
          "text": [
            "Encountered RateLimitError: Waiting for 65 seconds...\n",
            "Current accuracy:0.8992248062015504\n"
          ]
        },
        {
          "output_type": "stream",
          "name": "stderr",
          "text": [
            "953it [21:53, 12.87it/s]"
          ]
        },
        {
          "output_type": "stream",
          "name": "stdout",
          "text": [
            "Encountered RateLimitError: Waiting for 65 seconds...\n",
            "Current accuracy:0.8942408376963351\n"
          ]
        },
        {
          "output_type": "stream",
          "name": "stderr",
          "text": [
            "998it [23:02,  9.87it/s]"
          ]
        },
        {
          "output_type": "stream",
          "name": "stdout",
          "text": [
            "Encountered RateLimitError: Waiting for 65 seconds...\n",
            "Current accuracy:0.8918918918918919\n"
          ]
        },
        {
          "output_type": "stream",
          "name": "stderr",
          "text": [
            "1045it [24:12, 10.19it/s]"
          ]
        },
        {
          "output_type": "stream",
          "name": "stdout",
          "text": [
            "Encountered RateLimitError: Waiting for 65 seconds...\n",
            "Current accuracy:0.8938814531548758\n"
          ]
        },
        {
          "output_type": "stream",
          "name": "stderr",
          "text": [
            "1086it [25:22,  8.14it/s]"
          ]
        },
        {
          "output_type": "stream",
          "name": "stdout",
          "text": [
            "Encountered RateLimitError: Waiting for 65 seconds...\n",
            "Current accuracy:0.8952205882352942\n"
          ]
        },
        {
          "output_type": "stream",
          "name": "stderr",
          "text": [
            "1140it [26:32, 13.47it/s]"
          ]
        },
        {
          "output_type": "stream",
          "name": "stdout",
          "text": [
            "Encountered RateLimitError: Waiting for 65 seconds...\n",
            "Current accuracy:0.8896672504378283\n"
          ]
        },
        {
          "output_type": "stream",
          "name": "stderr",
          "text": [
            "1187it [27:42, 12.90it/s]"
          ]
        },
        {
          "output_type": "stream",
          "name": "stdout",
          "text": [
            "Encountered RateLimitError: Waiting for 65 seconds...\n",
            "Current accuracy:0.8914141414141414\n"
          ]
        },
        {
          "output_type": "stream",
          "name": "stderr",
          "text": [
            "1241it [28:52, 14.29it/s]"
          ]
        },
        {
          "output_type": "stream",
          "name": "stdout",
          "text": [
            "Encountered RateLimitError: Waiting for 65 seconds...\n",
            "Current accuracy:0.8938053097345132\n"
          ]
        },
        {
          "output_type": "stream",
          "name": "stderr",
          "text": [
            "1288it [30:01, 13.23it/s]"
          ]
        },
        {
          "output_type": "stream",
          "name": "stdout",
          "text": [
            "Encountered RateLimitError: Waiting for 65 seconds...\n",
            "Current accuracy:0.8953488372093024\n"
          ]
        },
        {
          "output_type": "stream",
          "name": "stderr",
          "text": [
            "1333it [31:30, 10.25it/s]"
          ]
        },
        {
          "output_type": "stream",
          "name": "stdout",
          "text": [
            "Encountered RateLimitError: Waiting for 65 seconds...\n",
            "Current accuracy:0.8966292134831461\n"
          ]
        },
        {
          "output_type": "stream",
          "name": "stderr",
          "text": [
            "\r1333it [31:50, 10.25it/s]"
          ]
        },
        {
          "output_type": "stream",
          "name": "stdout",
          "text": [
            "Encountered RateLimitError: Waiting for 65 seconds...\n",
            "Current accuracy:0.8966292134831461\n",
            "Encountered RateLimitError: Waiting for 65 seconds...\n",
            "Current accuracy:0.8966292134831461\n",
            "Encountered RateLimitError: Waiting for 65 seconds...\n",
            "Current accuracy:0.8966292134831461\n"
          ]
        },
        {
          "output_type": "stream",
          "name": "stderr",
          "text": [
            "1380it [36:40, 12.19it/s]"
          ]
        },
        {
          "output_type": "stream",
          "name": "stdout",
          "text": [
            "Encountered RateLimitError: Waiting for 65 seconds...\n",
            "Current accuracy:0.8986975397973951\n"
          ]
        },
        {
          "output_type": "stream",
          "name": "stderr",
          "text": [
            "1423it [37:48, 12.96it/s]"
          ]
        },
        {
          "output_type": "stream",
          "name": "stdout",
          "text": [
            "Encountered RateLimitError: Waiting for 65 seconds...\n",
            "Current accuracy:0.9003508771929825\n"
          ]
        },
        {
          "output_type": "stream",
          "name": "stderr",
          "text": [
            "1468it [38:57,  9.94it/s]"
          ]
        },
        {
          "output_type": "stream",
          "name": "stdout",
          "text": [
            "Encountered RateLimitError: Waiting for 65 seconds...\n",
            "Current accuracy:0.899931926480599\n"
          ]
        },
        {
          "output_type": "stream",
          "name": "stderr",
          "text": [
            "1515it [40:06, 13.78it/s]"
          ]
        },
        {
          "output_type": "stream",
          "name": "stdout",
          "text": [
            "Encountered RateLimitError: Waiting for 65 seconds...\n",
            "Current accuracy:0.8991430454845089\n"
          ]
        },
        {
          "output_type": "stream",
          "name": "stderr",
          "text": [
            "1560it [41:14, 13.58it/s]"
          ]
        },
        {
          "output_type": "stream",
          "name": "stdout",
          "text": [
            "Encountered RateLimitError: Waiting for 65 seconds...\n",
            "Current accuracy:0.8994878361075545\n"
          ]
        },
        {
          "output_type": "stream",
          "name": "stderr",
          "text": [
            "1612it [42:24, 13.86it/s]"
          ]
        },
        {
          "output_type": "stream",
          "name": "stdout",
          "text": [
            "Encountered RateLimitError: Waiting for 65 seconds...\n",
            "Current accuracy:0.8971499380421314\n"
          ]
        },
        {
          "output_type": "stream",
          "name": "stderr",
          "text": [
            "1662it [43:33, 14.59it/s]"
          ]
        },
        {
          "output_type": "stream",
          "name": "stdout",
          "text": [
            "Encountered RateLimitError: Waiting for 65 seconds...\n",
            "Current accuracy:0.8948317307692307\n"
          ]
        },
        {
          "output_type": "stream",
          "name": "stderr",
          "text": [
            "1692it [44:40,  6.82it/s]"
          ]
        },
        {
          "output_type": "stream",
          "name": "stdout",
          "text": [
            "Encountered RateLimitError: Waiting for 65 seconds...\n",
            "Current accuracy:0.8961038961038961\n"
          ]
        },
        {
          "output_type": "stream",
          "name": "stderr",
          "text": [
            "1736it [45:49, 13.19it/s]"
          ]
        },
        {
          "output_type": "stream",
          "name": "stdout",
          "text": [
            "Encountered RateLimitError: Waiting for 65 seconds...\n",
            "Current accuracy:0.895797351755901\n"
          ]
        },
        {
          "output_type": "stream",
          "name": "stderr",
          "text": [
            "1778it [46:58, 11.66it/s]"
          ]
        },
        {
          "output_type": "stream",
          "name": "stdout",
          "text": [
            "Encountered RateLimitError: Waiting for 65 seconds...\n",
            "Current accuracy:0.8960674157303371\n"
          ]
        },
        {
          "output_type": "stream",
          "name": "stderr",
          "text": [
            "1812it [48:05,  9.63it/s]"
          ]
        },
        {
          "output_type": "stream",
          "name": "stdout",
          "text": [
            "Encountered RateLimitError: Waiting for 65 seconds...\n",
            "Current accuracy:0.897407611693326\n"
          ]
        },
        {
          "output_type": "stream",
          "name": "stderr",
          "text": [
            "1862it [49:15, 11.86it/s]"
          ]
        },
        {
          "output_type": "stream",
          "name": "stdout",
          "text": [
            "Encountered RateLimitError: Waiting for 65 seconds...\n",
            "Current accuracy:0.898068669527897\n"
          ]
        },
        {
          "output_type": "stream",
          "name": "stderr",
          "text": [
            "1912it [50:23, 14.15it/s]"
          ]
        },
        {
          "output_type": "stream",
          "name": "stdout",
          "text": [
            "Encountered RateLimitError: Waiting for 65 seconds...\n",
            "Current accuracy:0.8975431259801359\n"
          ]
        },
        {
          "output_type": "stream",
          "name": "stderr",
          "text": [
            "1958it [51:33, 10.10it/s]"
          ]
        },
        {
          "output_type": "stream",
          "name": "stdout",
          "text": [
            "Encountered RateLimitError: Waiting for 65 seconds...\n",
            "Current accuracy:0.8968861664114344\n"
          ]
        },
        {
          "output_type": "stream",
          "name": "stderr",
          "text": [
            "2001it [52:41, 13.26it/s]"
          ]
        },
        {
          "output_type": "stream",
          "name": "stdout",
          "text": [
            "Encountered RateLimitError: Waiting for 65 seconds...\n",
            "Current accuracy:0.8966033966033966\n"
          ]
        },
        {
          "output_type": "stream",
          "name": "stderr",
          "text": [
            "2046it [53:50, 13.47it/s]"
          ]
        },
        {
          "output_type": "stream",
          "name": "stdout",
          "text": [
            "Encountered RateLimitError: Waiting for 65 seconds...\n",
            "Current accuracy:0.89794921875\n"
          ]
        },
        {
          "output_type": "stream",
          "name": "stderr",
          "text": [
            "2092it [54:59, 13.79it/s]"
          ]
        },
        {
          "output_type": "stream",
          "name": "stdout",
          "text": [
            "Encountered RateLimitError: Waiting for 65 seconds...\n",
            "Current accuracy:0.8997134670487106\n"
          ]
        },
        {
          "output_type": "stream",
          "name": "stderr",
          "text": [
            "2134it [56:07, 12.61it/s]"
          ]
        },
        {
          "output_type": "stream",
          "name": "stdout",
          "text": [
            "Encountered RateLimitError: Waiting for 65 seconds...\n",
            "Current accuracy:0.9002808988764045\n"
          ]
        },
        {
          "output_type": "stream",
          "name": "stderr",
          "text": [
            "2185it [57:16, 14.63it/s]"
          ]
        },
        {
          "output_type": "stream",
          "name": "stdout",
          "text": [
            "Encountered RateLimitError: Waiting for 65 seconds...\n",
            "Current accuracy:0.9002744739249772\n"
          ]
        },
        {
          "output_type": "stream",
          "name": "stderr",
          "text": [
            "2235it [58:25, 13.59it/s]"
          ]
        },
        {
          "output_type": "stream",
          "name": "stdout",
          "text": [
            "Encountered RateLimitError: Waiting for 65 seconds...\n",
            "Current accuracy:0.8998211091234347\n"
          ]
        },
        {
          "output_type": "stream",
          "name": "stderr",
          "text": [
            "2283it [59:34, 14.59it/s]"
          ]
        },
        {
          "output_type": "stream",
          "name": "stdout",
          "text": [
            "Encountered RateLimitError: Waiting for 65 seconds...\n",
            "Current accuracy:0.900218818380744\n"
          ]
        },
        {
          "output_type": "stream",
          "name": "stderr",
          "text": [
            "2331it [1:00:43, 12.68it/s]"
          ]
        },
        {
          "output_type": "stream",
          "name": "stdout",
          "text": [
            "Encountered RateLimitError: Waiting for 65 seconds...\n",
            "Current accuracy:0.8992281303602059\n"
          ]
        },
        {
          "output_type": "stream",
          "name": "stderr",
          "text": [
            "2370it [1:01:51, 12.60it/s]"
          ]
        },
        {
          "output_type": "stream",
          "name": "stdout",
          "text": [
            "Encountered RateLimitError: Waiting for 65 seconds...\n",
            "Current accuracy:0.8992411467116358\n"
          ]
        },
        {
          "output_type": "stream",
          "name": "stderr",
          "text": [
            "2418it [1:03:00, 14.41it/s]"
          ]
        },
        {
          "output_type": "stream",
          "name": "stdout",
          "text": [
            "Encountered RateLimitError: Waiting for 65 seconds...\n",
            "Current accuracy:0.8995867768595042\n"
          ]
        },
        {
          "output_type": "stream",
          "name": "stderr",
          "text": [
            "2465it [1:04:09, 13.28it/s]"
          ]
        },
        {
          "output_type": "stream",
          "name": "stdout",
          "text": [
            "Encountered RateLimitError: Waiting for 65 seconds...\n",
            "Current accuracy:0.8994730441832185\n"
          ]
        },
        {
          "output_type": "stream",
          "name": "stderr",
          "text": [
            "2514it [1:05:18, 14.62it/s]"
          ]
        },
        {
          "output_type": "stream",
          "name": "stdout",
          "text": [
            "Encountered RateLimitError: Waiting for 65 seconds...\n",
            "Current accuracy:0.899403578528827\n"
          ]
        },
        {
          "output_type": "stream",
          "name": "stderr",
          "text": [
            "2563it [1:06:27, 13.51it/s]"
          ]
        },
        {
          "output_type": "stream",
          "name": "stdout",
          "text": [
            "Encountered RateLimitError: Waiting for 65 seconds...\n",
            "Current accuracy:0.898635477582846\n"
          ]
        },
        {
          "output_type": "stream",
          "name": "stderr",
          "text": [
            "2603it [1:07:35, 12.14it/s]"
          ]
        },
        {
          "output_type": "stream",
          "name": "stdout",
          "text": [
            "Encountered RateLimitError: Waiting for 65 seconds...\n",
            "Current accuracy:0.8978494623655914\n"
          ]
        },
        {
          "output_type": "stream",
          "name": "stderr",
          "text": [
            "2649it [1:08:44, 12.53it/s]"
          ]
        },
        {
          "output_type": "stream",
          "name": "stdout",
          "text": [
            "Encountered RateLimitError: Waiting for 65 seconds...\n",
            "Current accuracy:0.8981516408902301\n"
          ]
        },
        {
          "output_type": "stream",
          "name": "stderr",
          "text": [
            "2696it [1:09:52, 13.79it/s]"
          ]
        },
        {
          "output_type": "stream",
          "name": "stdout",
          "text": [
            "Encountered RateLimitError: Waiting for 65 seconds...\n",
            "Current accuracy:0.8984432913269088\n"
          ]
        },
        {
          "output_type": "stream",
          "name": "stderr",
          "text": [
            "2740it [1:11:02, 10.11it/s]"
          ]
        },
        {
          "output_type": "stream",
          "name": "stdout",
          "text": [
            "Encountered RateLimitError: Waiting for 65 seconds...\n",
            "Current accuracy:0.8989788475565281\n"
          ]
        },
        {
          "output_type": "stream",
          "name": "stderr",
          "text": [
            "2790it [1:12:13,  9.51it/s]"
          ]
        },
        {
          "output_type": "stream",
          "name": "stdout",
          "text": [
            "Encountered RateLimitError: Waiting for 65 seconds...\n",
            "Current accuracy:0.8978860623432462\n"
          ]
        },
        {
          "output_type": "stream",
          "name": "stderr",
          "text": [
            "2842it [1:13:23, 11.66it/s]"
          ]
        },
        {
          "output_type": "stream",
          "name": "stdout",
          "text": [
            "Encountered RateLimitError: Waiting for 65 seconds...\n",
            "Current accuracy:0.8973277074542897\n"
          ]
        },
        {
          "output_type": "stream",
          "name": "stderr",
          "text": [
            "2889it [1:14:31, 14.48it/s]"
          ]
        },
        {
          "output_type": "stream",
          "name": "stdout",
          "text": [
            "Encountered RateLimitError: Waiting for 65 seconds...\n",
            "Current accuracy:0.8965755793842961\n"
          ]
        },
        {
          "output_type": "stream",
          "name": "stderr",
          "text": [
            "2936it [1:15:40, 10.20it/s]"
          ]
        },
        {
          "output_type": "stream",
          "name": "stdout",
          "text": [
            "Encountered RateLimitError: Waiting for 65 seconds...\n",
            "Current accuracy:0.8965282505105514\n"
          ]
        },
        {
          "output_type": "stream",
          "name": "stderr",
          "text": [
            "2985it [1:16:56, 13.86it/s]"
          ]
        },
        {
          "output_type": "stream",
          "name": "stdout",
          "text": [
            "Encountered RateLimitError: Waiting for 65 seconds...\n",
            "Current accuracy:0.8948425987943738\n"
          ]
        },
        {
          "output_type": "stream",
          "name": "stderr",
          "text": [
            "3034it [1:18:06, 10.51it/s]"
          ]
        },
        {
          "output_type": "stream",
          "name": "stdout",
          "text": [
            "Encountered RateLimitError: Waiting for 65 seconds...\n",
            "Current accuracy:0.8932454695222405\n"
          ]
        },
        {
          "output_type": "stream",
          "name": "stderr",
          "text": [
            "3087it [1:19:15, 14.37it/s]"
          ]
        },
        {
          "output_type": "stream",
          "name": "stdout",
          "text": [
            "Encountered RateLimitError: Waiting for 65 seconds...\n",
            "Current accuracy:0.8931347150259067\n"
          ]
        },
        {
          "output_type": "stream",
          "name": "stderr",
          "text": [
            "3136it [1:20:25, 10.46it/s]"
          ]
        },
        {
          "output_type": "stream",
          "name": "stdout",
          "text": [
            "Encountered RateLimitError: Waiting for 65 seconds...\n",
            "Current accuracy:0.8926067558954748\n"
          ]
        },
        {
          "output_type": "stream",
          "name": "stderr",
          "text": [
            "3189it [1:21:34, 13.92it/s]"
          ]
        },
        {
          "output_type": "stream",
          "name": "stdout",
          "text": [
            "Encountered RateLimitError: Waiting for 65 seconds...\n",
            "Current accuracy:0.8937637104356001\n"
          ]
        },
        {
          "output_type": "stream",
          "name": "stderr",
          "text": [
            "3242it [1:22:44, 10.95it/s]"
          ]
        },
        {
          "output_type": "stream",
          "name": "stdout",
          "text": [
            "Encountered RateLimitError: Waiting for 65 seconds...\n",
            "Current accuracy:0.89300030835646\n"
          ]
        },
        {
          "output_type": "stream",
          "name": "stderr",
          "text": [
            "3287it [1:23:54,  5.98it/s]"
          ]
        },
        {
          "output_type": "stream",
          "name": "stdout",
          "text": [
            "Encountered RateLimitError: Waiting for 65 seconds...\n",
            "Current accuracy:0.8932806324110671\n"
          ]
        },
        {
          "output_type": "stream",
          "name": "stderr",
          "text": [
            "3332it [1:25:03, 11.78it/s]"
          ]
        },
        {
          "output_type": "stream",
          "name": "stdout",
          "text": [
            "Encountered RateLimitError: Waiting for 65 seconds...\n",
            "Current accuracy:0.8941211757648471\n"
          ]
        },
        {
          "output_type": "stream",
          "name": "stderr",
          "text": [
            "3377it [1:26:11, 12.04it/s]"
          ]
        },
        {
          "output_type": "stream",
          "name": "stdout",
          "text": [
            "Encountered RateLimitError: Waiting for 65 seconds...\n",
            "Current accuracy:0.8937240970988751\n"
          ]
        },
        {
          "output_type": "stream",
          "name": "stderr",
          "text": [
            "3423it [1:27:20, 13.16it/s]"
          ]
        },
        {
          "output_type": "stream",
          "name": "stdout",
          "text": [
            "Encountered RateLimitError: Waiting for 65 seconds...\n",
            "Current accuracy:0.8936915887850467\n"
          ]
        },
        {
          "output_type": "stream",
          "name": "stderr",
          "text": [
            "3469it [1:28:29, 14.04it/s]"
          ]
        },
        {
          "output_type": "stream",
          "name": "stdout",
          "text": [
            "Encountered RateLimitError: Waiting for 65 seconds...\n",
            "Current accuracy:0.8936905790838375\n"
          ]
        },
        {
          "output_type": "stream",
          "name": "stderr",
          "text": [
            "3520it [1:29:38, 14.98it/s]"
          ]
        },
        {
          "output_type": "stream",
          "name": "stdout",
          "text": [
            "Encountered RateLimitError: Waiting for 65 seconds...\n",
            "Current accuracy:0.8929585462805224\n"
          ]
        },
        {
          "output_type": "stream",
          "name": "stderr",
          "text": [
            "3569it [1:30:48, 13.33it/s]"
          ]
        },
        {
          "output_type": "stream",
          "name": "stdout",
          "text": [
            "Encountered RateLimitError: Waiting for 65 seconds...\n",
            "Current accuracy:0.8933071968636236\n"
          ]
        },
        {
          "output_type": "stream",
          "name": "stderr",
          "text": [
            "3614it [1:31:56, 13.73it/s]"
          ]
        },
        {
          "output_type": "stream",
          "name": "stdout",
          "text": [
            "Encountered RateLimitError: Waiting for 65 seconds...\n",
            "Current accuracy:0.8932522123893806\n"
          ]
        },
        {
          "output_type": "stream",
          "name": "stderr",
          "text": [
            "3664it [1:33:06, 14.21it/s]"
          ]
        },
        {
          "output_type": "stream",
          "name": "stdout",
          "text": [
            "Encountered RateLimitError: Waiting for 65 seconds...\n",
            "Current accuracy:0.8933151432469304\n"
          ]
        },
        {
          "output_type": "stream",
          "name": "stderr",
          "text": [
            "3714it [1:34:16, 13.77it/s]"
          ]
        },
        {
          "output_type": "stream",
          "name": "stdout",
          "text": [
            "Encountered RateLimitError: Waiting for 65 seconds...\n",
            "Current accuracy:0.8931359353970391\n"
          ]
        },
        {
          "output_type": "stream",
          "name": "stderr",
          "text": [
            "3762it [1:35:25, 10.12it/s]"
          ]
        },
        {
          "output_type": "stream",
          "name": "stdout",
          "text": [
            "Encountered RateLimitError: Waiting for 65 seconds...\n",
            "Current accuracy:0.8931703428115865\n"
          ]
        },
        {
          "output_type": "stream",
          "name": "stderr",
          "text": [
            "3804it [1:36:34, 12.90it/s]"
          ]
        },
        {
          "output_type": "stream",
          "name": "stdout",
          "text": [
            "Encountered RateLimitError: Waiting for 65 seconds...\n",
            "Current accuracy:0.8941145559642669\n"
          ]
        },
        {
          "output_type": "stream",
          "name": "stderr",
          "text": [
            "3846it [1:37:42, 12.49it/s]"
          ]
        },
        {
          "output_type": "stream",
          "name": "stdout",
          "text": [
            "Encountered RateLimitError: Waiting for 65 seconds...\n",
            "Current accuracy:0.8942032752794385\n"
          ]
        },
        {
          "output_type": "stream",
          "name": "stderr",
          "text": [
            "3889it [1:38:51, 11.81it/s]"
          ]
        },
        {
          "output_type": "stream",
          "name": "stdout",
          "text": [
            "Encountered RateLimitError: Waiting for 65 seconds...\n",
            "Current accuracy:0.8936006168080185\n"
          ]
        },
        {
          "output_type": "stream",
          "name": "stderr",
          "text": [
            "3928it [1:40:00, 10.87it/s]"
          ]
        },
        {
          "output_type": "stream",
          "name": "stdout",
          "text": [
            "Encountered RateLimitError: Waiting for 65 seconds...\n",
            "Current accuracy:0.8928753180661577\n"
          ]
        },
        {
          "output_type": "stream",
          "name": "stderr",
          "text": [
            "3979it [1:41:08, 14.81it/s]"
          ]
        },
        {
          "output_type": "stream",
          "name": "stdout",
          "text": [
            "Encountered RateLimitError: Waiting for 65 seconds...\n",
            "Current accuracy:0.8927405174579252\n"
          ]
        },
        {
          "output_type": "stream",
          "name": "stderr",
          "text": [
            "4031it [1:42:18, 14.45it/s]"
          ]
        },
        {
          "output_type": "stream",
          "name": "stdout",
          "text": [
            "Encountered RateLimitError: Waiting for 65 seconds...\n",
            "Current accuracy:0.8933796181502603\n"
          ]
        },
        {
          "output_type": "stream",
          "name": "stderr",
          "text": [
            "4081it [1:43:28,  8.47it/s]"
          ]
        },
        {
          "output_type": "stream",
          "name": "stdout",
          "text": [
            "Encountered RateLimitError: Waiting for 65 seconds...\n",
            "Current accuracy:0.8939245467907888\n"
          ]
        },
        {
          "output_type": "stream",
          "name": "stderr",
          "text": [
            "4131it [1:44:38, 14.16it/s]"
          ]
        },
        {
          "output_type": "stream",
          "name": "stdout",
          "text": [
            "Encountered RateLimitError: Waiting for 65 seconds...\n",
            "Current accuracy:0.89351403678606\n"
          ]
        },
        {
          "output_type": "stream",
          "name": "stderr",
          "text": [
            "4178it [1:45:48, 12.14it/s]"
          ]
        },
        {
          "output_type": "stream",
          "name": "stdout",
          "text": [
            "Encountered RateLimitError: Waiting for 65 seconds...\n",
            "Current accuracy:0.8935406698564593\n"
          ]
        },
        {
          "output_type": "stream",
          "name": "stderr",
          "text": [
            "4224it [1:46:57, 13.53it/s]"
          ]
        },
        {
          "output_type": "stream",
          "name": "stdout",
          "text": [
            "Encountered RateLimitError: Waiting for 65 seconds...\n",
            "Current accuracy:0.8925443786982249\n"
          ]
        },
        {
          "output_type": "stream",
          "name": "stderr",
          "text": [
            "4275it [1:48:06, 14.79it/s]"
          ]
        },
        {
          "output_type": "stream",
          "name": "stdout",
          "text": [
            "Encountered RateLimitError: Waiting for 65 seconds...\n",
            "Current accuracy:0.892422825070159\n"
          ]
        },
        {
          "output_type": "stream",
          "name": "stderr",
          "text": [
            "4327it [1:49:15, 13.74it/s]"
          ]
        },
        {
          "output_type": "stream",
          "name": "stdout",
          "text": [
            "Encountered RateLimitError: Waiting for 65 seconds...\n",
            "Current accuracy:0.893046893046893\n"
          ]
        },
        {
          "output_type": "stream",
          "name": "stderr",
          "text": [
            "4376it [1:50:24, 14.27it/s]"
          ]
        },
        {
          "output_type": "stream",
          "name": "stdout",
          "text": [
            "Encountered RateLimitError: Waiting for 65 seconds...\n",
            "Current accuracy:0.8937871174052079\n"
          ]
        },
        {
          "output_type": "stream",
          "name": "stderr",
          "text": [
            "4419it [1:51:36, 11.79it/s]"
          ]
        },
        {
          "output_type": "stream",
          "name": "stdout",
          "text": [
            "Encountered RateLimitError: Waiting for 65 seconds...\n",
            "Current accuracy:0.8934389140271494\n"
          ]
        },
        {
          "output_type": "stream",
          "name": "stderr",
          "text": [
            "4467it [1:52:45, 14.48it/s]"
          ]
        },
        {
          "output_type": "stream",
          "name": "stdout",
          "text": [
            "Encountered RateLimitError: Waiting for 65 seconds...\n",
            "Current accuracy:0.8939360035802193\n"
          ]
        },
        {
          "output_type": "stream",
          "name": "stderr",
          "text": [
            "4510it [1:53:54, 11.82it/s]"
          ]
        },
        {
          "output_type": "stream",
          "name": "stdout",
          "text": [
            "Encountered RateLimitError: Waiting for 65 seconds...\n",
            "Current accuracy:0.8931500775881179\n"
          ]
        },
        {
          "output_type": "stream",
          "name": "stderr",
          "text": [
            "4560it [1:55:03, 14.47it/s]"
          ]
        },
        {
          "output_type": "stream",
          "name": "stdout",
          "text": [
            "Encountered RateLimitError: Waiting for 65 seconds...\n",
            "Current accuracy:0.8930293730819816\n"
          ]
        },
        {
          "output_type": "stream",
          "name": "stderr",
          "text": [
            "4612it [1:56:12, 13.49it/s]"
          ]
        },
        {
          "output_type": "stream",
          "name": "stdout",
          "text": [
            "Encountered RateLimitError: Waiting for 65 seconds...\n",
            "Current accuracy:0.8935616735313245\n"
          ]
        },
        {
          "output_type": "stream",
          "name": "stderr",
          "text": [
            "4662it [1:57:22, 10.51it/s]"
          ]
        },
        {
          "output_type": "stream",
          "name": "stdout",
          "text": [
            "Encountered RateLimitError: Waiting for 65 seconds...\n",
            "Current accuracy:0.8932018014153978\n"
          ]
        },
        {
          "output_type": "stream",
          "name": "stderr",
          "text": [
            "4710it [1:58:32, 11.05it/s]"
          ]
        },
        {
          "output_type": "stream",
          "name": "stdout",
          "text": [
            "Encountered RateLimitError: Waiting for 65 seconds...\n",
            "Current accuracy:0.8932512733446519\n"
          ]
        },
        {
          "output_type": "stream",
          "name": "stderr",
          "text": [
            "4751it [1:59:40, 13.30it/s]"
          ]
        },
        {
          "output_type": "stream",
          "name": "stdout",
          "text": [
            "Encountered RateLimitError: Waiting for 65 seconds...\n",
            "Current accuracy:0.8935185185185185\n"
          ]
        },
        {
          "output_type": "stream",
          "name": "stderr",
          "text": [
            "4752it [2:00:56, 13.51s/it]"
          ]
        },
        {
          "output_type": "stream",
          "name": "stdout",
          "text": [
            "Encountered RateLimitError: Waiting for 65 seconds...\n",
            "Current accuracy:0.8935633151030711\n",
            "Encountered RateLimitError: Waiting for 65 seconds...\n",
            "Current accuracy:0.8935633151030711\n",
            "Encountered RateLimitError: Waiting for 65 seconds...\n",
            "Current accuracy:0.8935633151030711\n",
            "Encountered RateLimitError: Waiting for 65 seconds...\n",
            "Current accuracy:0.8935633151030711\n"
          ]
        },
        {
          "output_type": "stream",
          "name": "stderr",
          "text": [
            "4795it [2:06:26,  8.68it/s]"
          ]
        },
        {
          "output_type": "stream",
          "name": "stdout",
          "text": [
            "Encountered RateLimitError: Waiting for 65 seconds...\n",
            "Current accuracy:0.8940783986655546\n"
          ]
        },
        {
          "output_type": "stream",
          "name": "stderr",
          "text": [
            "4842it [2:07:35, 14.31it/s]"
          ]
        },
        {
          "output_type": "stream",
          "name": "stdout",
          "text": [
            "Encountered RateLimitError: Waiting for 65 seconds...\n",
            "Current accuracy:0.8926507018992568\n"
          ]
        },
        {
          "output_type": "stream",
          "name": "stderr",
          "text": [
            "4887it [2:08:44, 13.59it/s]"
          ]
        },
        {
          "output_type": "stream",
          "name": "stdout",
          "text": [
            "Encountered RateLimitError: Waiting for 65 seconds...\n",
            "Current accuracy:0.8927986906710311\n"
          ]
        },
        {
          "output_type": "stream",
          "name": "stderr",
          "text": [
            "4936it [2:09:54,  9.35it/s]"
          ]
        },
        {
          "output_type": "stream",
          "name": "stdout",
          "text": [
            "Encountered RateLimitError: Waiting for 65 seconds...\n",
            "Current accuracy:0.8930524610087097\n"
          ]
        },
        {
          "output_type": "stream",
          "name": "stderr",
          "text": [
            "4981it [2:11:03,  8.96it/s]"
          ]
        },
        {
          "output_type": "stream",
          "name": "stdout",
          "text": [
            "Encountered RateLimitError: Waiting for 65 seconds...\n",
            "Current accuracy:0.8932155760738659\n"
          ]
        },
        {
          "output_type": "stream",
          "name": "stderr",
          "text": [
            "5026it [2:12:13,  6.89it/s]"
          ]
        },
        {
          "output_type": "stream",
          "name": "stdout",
          "text": [
            "Encountered RateLimitError: Waiting for 65 seconds...\n",
            "Current accuracy:0.8937947494033412\n"
          ]
        },
        {
          "output_type": "stream",
          "name": "stderr",
          "text": [
            "5072it [2:13:23, 12.33it/s]"
          ]
        },
        {
          "output_type": "stream",
          "name": "stdout",
          "text": [
            "Encountered RateLimitError: Waiting for 65 seconds...\n",
            "Current accuracy:0.8939692550256209\n"
          ]
        },
        {
          "output_type": "stream",
          "name": "stderr",
          "text": [
            "5125it [2:14:32, 14.60it/s]"
          ]
        },
        {
          "output_type": "stream",
          "name": "stdout",
          "text": [
            "Encountered RateLimitError: Waiting for 65 seconds...\n",
            "Current accuracy:0.8942851570118978\n"
          ]
        },
        {
          "output_type": "stream",
          "name": "stderr",
          "text": [
            "5170it [2:15:41, 12.53it/s]"
          ]
        },
        {
          "output_type": "stream",
          "name": "stdout",
          "text": [
            "Encountered RateLimitError: Waiting for 65 seconds...\n",
            "Current accuracy:0.8942382057231245\n"
          ]
        },
        {
          "output_type": "stream",
          "name": "stderr",
          "text": [
            "5212it [2:16:50,  6.52it/s]"
          ]
        },
        {
          "output_type": "stream",
          "name": "stdout",
          "text": [
            "Encountered RateLimitError: Waiting for 65 seconds...\n",
            "Current accuracy:0.8941108766545176\n"
          ]
        },
        {
          "output_type": "stream",
          "name": "stderr",
          "text": [
            "5255it [2:17:59, 12.84it/s]"
          ]
        },
        {
          "output_type": "stream",
          "name": "stdout",
          "text": [
            "Encountered RateLimitError: Waiting for 65 seconds...\n",
            "Current accuracy:0.8940460338596158\n"
          ]
        },
        {
          "output_type": "stream",
          "name": "stderr",
          "text": [
            "5297it [2:19:08, 12.29it/s]"
          ]
        },
        {
          "output_type": "stream",
          "name": "stdout",
          "text": [
            "Encountered RateLimitError: Waiting for 65 seconds...\n",
            "Current accuracy:0.8942997357493394\n"
          ]
        },
        {
          "output_type": "stream",
          "name": "stderr",
          "text": [
            "5348it [2:20:17, 14.18it/s]"
          ]
        },
        {
          "output_type": "stream",
          "name": "stdout",
          "text": [
            "Encountered RateLimitError: Waiting for 65 seconds...\n",
            "Current accuracy:0.894018691588785\n"
          ]
        },
        {
          "output_type": "stream",
          "name": "stderr",
          "text": [
            "5393it [2:21:26, 13.34it/s]"
          ]
        },
        {
          "output_type": "stream",
          "name": "stdout",
          "text": [
            "Encountered RateLimitError: Waiting for 65 seconds...\n",
            "Current accuracy:0.893790546802595\n"
          ]
        },
        {
          "output_type": "stream",
          "name": "stderr",
          "text": [
            "5447it [2:22:35, 14.95it/s]"
          ]
        },
        {
          "output_type": "stream",
          "name": "stdout",
          "text": [
            "Encountered RateLimitError: Waiting for 65 seconds...\n",
            "Current accuracy:0.8944566813509545\n"
          ]
        },
        {
          "output_type": "stream",
          "name": "stderr",
          "text": [
            "5496it [2:23:44, 14.49it/s]"
          ]
        },
        {
          "output_type": "stream",
          "name": "stdout",
          "text": [
            "Encountered RateLimitError: Waiting for 65 seconds...\n",
            "Current accuracy:0.8946698199017646\n"
          ]
        },
        {
          "output_type": "stream",
          "name": "stderr",
          "text": [
            "5541it [2:24:53, 14.16it/s]"
          ]
        },
        {
          "output_type": "stream",
          "name": "stdout",
          "text": [
            "Encountered RateLimitError: Waiting for 65 seconds...\n",
            "Current accuracy:0.895164200649585\n"
          ]
        },
        {
          "output_type": "stream",
          "name": "stderr",
          "text": [
            "5585it [2:26:02, 13.02it/s]"
          ]
        },
        {
          "output_type": "stream",
          "name": "stdout",
          "text": [
            "Encountered RateLimitError: Waiting for 65 seconds...\n",
            "Current accuracy:0.8952926436370146\n"
          ]
        },
        {
          "output_type": "stream",
          "name": "stderr",
          "text": [
            "5641it [2:27:11, 13.67it/s]"
          ]
        },
        {
          "output_type": "stream",
          "name": "stdout",
          "text": [
            "Encountered RateLimitError: Waiting for 65 seconds...\n",
            "Current accuracy:0.8956228956228957\n"
          ]
        },
        {
          "output_type": "stream",
          "name": "stderr",
          "text": [
            "5672it [2:28:20,  8.12it/s]"
          ]
        },
        {
          "output_type": "stream",
          "name": "stdout",
          "text": [
            "Encountered RateLimitError: Waiting for 65 seconds...\n",
            "Current accuracy:0.8951357067324639\n"
          ]
        },
        {
          "output_type": "stream",
          "name": "stderr",
          "text": [
            "5716it [2:29:29, 14.00it/s]"
          ]
        },
        {
          "output_type": "stream",
          "name": "stdout",
          "text": [
            "Encountered RateLimitError: Waiting for 65 seconds...\n",
            "Current accuracy:0.8953996851495539\n"
          ]
        },
        {
          "output_type": "stream",
          "name": "stderr",
          "text": [
            "5768it [2:30:38, 15.08it/s]"
          ]
        },
        {
          "output_type": "stream",
          "name": "stdout",
          "text": [
            "Encountered RateLimitError: Waiting for 65 seconds...\n",
            "Current accuracy:0.8956672443674176\n"
          ]
        },
        {
          "output_type": "stream",
          "name": "stderr",
          "text": [
            "5809it [2:31:47, 12.84it/s]"
          ]
        },
        {
          "output_type": "stream",
          "name": "stdout",
          "text": [
            "Encountered RateLimitError: Waiting for 65 seconds...\n",
            "Current accuracy:0.8950266735501635\n"
          ]
        },
        {
          "output_type": "stream",
          "name": "stderr",
          "text": [
            "5860it [2:32:58,  9.58it/s]"
          ]
        },
        {
          "output_type": "stream",
          "name": "stdout",
          "text": [
            "Encountered RateLimitError: Waiting for 65 seconds...\n",
            "Current accuracy:0.8950870010235414\n"
          ]
        },
        {
          "output_type": "stream",
          "name": "stderr",
          "text": [
            "5908it [2:34:08, 14.57it/s]"
          ]
        },
        {
          "output_type": "stream",
          "name": "stdout",
          "text": [
            "Encountered RateLimitError: Waiting for 65 seconds...\n",
            "Current accuracy:0.894567608732442\n"
          ]
        },
        {
          "output_type": "stream",
          "name": "stderr",
          "text": [
            "5950it [2:35:17,  8.62it/s]"
          ]
        },
        {
          "output_type": "stream",
          "name": "stdout",
          "text": [
            "Encountered RateLimitError: Waiting for 65 seconds...\n",
            "Current accuracy:0.8946572580645161\n"
          ]
        },
        {
          "output_type": "stream",
          "name": "stderr",
          "text": [
            "5999it [2:36:33, 13.90it/s]"
          ]
        },
        {
          "output_type": "stream",
          "name": "stdout",
          "text": [
            "Encountered RateLimitError: Waiting for 65 seconds...\n",
            "Current accuracy:0.8940176637227129\n"
          ]
        },
        {
          "output_type": "stream",
          "name": "stderr",
          "text": [
            "6046it [2:37:42, 13.99it/s]"
          ]
        },
        {
          "output_type": "stream",
          "name": "stdout",
          "text": [
            "Encountered RateLimitError: Waiting for 65 seconds...\n",
            "Current accuracy:0.8938492063492064\n"
          ]
        },
        {
          "output_type": "stream",
          "name": "stderr",
          "text": [
            "6093it [2:38:51, 13.54it/s]"
          ]
        },
        {
          "output_type": "stream",
          "name": "stdout",
          "text": [
            "Encountered RateLimitError: Waiting for 65 seconds...\n",
            "Current accuracy:0.8940114848236259\n"
          ]
        },
        {
          "output_type": "stream",
          "name": "stderr",
          "text": [
            "6139it [2:40:00, 10.16it/s]"
          ]
        },
        {
          "output_type": "stream",
          "name": "stdout",
          "text": [
            "Encountered RateLimitError: Waiting for 65 seconds...\n",
            "Current accuracy:0.8938283667155187\n"
          ]
        },
        {
          "output_type": "stream",
          "name": "stderr",
          "text": [
            "6181it [2:41:09, 12.81it/s]"
          ]
        },
        {
          "output_type": "stream",
          "name": "stdout",
          "text": [
            "Encountered RateLimitError: Waiting for 65 seconds...\n",
            "Current accuracy:0.8937237140084116\n"
          ]
        },
        {
          "output_type": "stream",
          "name": "stderr",
          "text": [
            "6227it [2:42:18, 14.88it/s]"
          ]
        },
        {
          "output_type": "stream",
          "name": "stdout",
          "text": [
            "Encountered RateLimitError: Waiting for 65 seconds...\n",
            "Current accuracy:0.8940269749518305\n"
          ]
        },
        {
          "output_type": "stream",
          "name": "stderr",
          "text": [
            "6279it [2:43:28, 14.30it/s]"
          ]
        },
        {
          "output_type": "stream",
          "name": "stdout",
          "text": [
            "Encountered RateLimitError: Waiting for 65 seconds...\n",
            "Current accuracy:0.8941251393090273\n"
          ]
        },
        {
          "output_type": "stream",
          "name": "stderr",
          "text": [
            "6333it [2:44:38, 14.63it/s]"
          ]
        },
        {
          "output_type": "stream",
          "name": "stdout",
          "text": [
            "Encountered RateLimitError: Waiting for 65 seconds...\n",
            "Current accuracy:0.8940637827597095\n"
          ]
        },
        {
          "output_type": "stream",
          "name": "stderr",
          "text": [
            "6377it [2:45:48, 12.69it/s]"
          ]
        },
        {
          "output_type": "stream",
          "name": "stdout",
          "text": [
            "Encountered RateLimitError: Waiting for 65 seconds...\n",
            "Current accuracy:0.8938538726873628\n"
          ]
        },
        {
          "output_type": "stream",
          "name": "stderr",
          "text": [
            "6424it [2:46:59, 14.30it/s]"
          ]
        },
        {
          "output_type": "stream",
          "name": "stdout",
          "text": [
            "Encountered RateLimitError: Waiting for 65 seconds...\n",
            "Current accuracy:0.8936964980544747\n"
          ]
        },
        {
          "output_type": "stream",
          "name": "stderr",
          "text": [
            "6473it [2:48:08,  9.42it/s]"
          ]
        },
        {
          "output_type": "stream",
          "name": "stdout",
          "text": [
            "Encountered RateLimitError: Waiting for 65 seconds...\n",
            "Current accuracy:0.893574297188755\n"
          ]
        },
        {
          "output_type": "stream",
          "name": "stderr",
          "text": [
            "6519it [2:49:19, 13.72it/s]"
          ]
        },
        {
          "output_type": "stream",
          "name": "stdout",
          "text": [
            "Encountered RateLimitError: Waiting for 65 seconds...\n",
            "Current accuracy:0.8940184049079755\n"
          ]
        },
        {
          "output_type": "stream",
          "name": "stderr",
          "text": [
            "6562it [2:50:28, 10.75it/s]"
          ]
        },
        {
          "output_type": "stream",
          "name": "stdout",
          "text": [
            "Encountered RateLimitError: Waiting for 65 seconds...\n",
            "Current accuracy:0.893510054844607\n"
          ]
        },
        {
          "output_type": "stream",
          "name": "stderr",
          "text": [
            "6613it [2:51:37, 14.23it/s]"
          ]
        },
        {
          "output_type": "stream",
          "name": "stdout",
          "text": [
            "Encountered RateLimitError: Waiting for 65 seconds...\n",
            "Current accuracy:0.893256728152404\n"
          ]
        },
        {
          "output_type": "stream",
          "name": "stderr",
          "text": [
            "6663it [2:52:46, 13.73it/s]"
          ]
        },
        {
          "output_type": "stream",
          "name": "stdout",
          "text": [
            "Encountered RateLimitError: Waiting for 65 seconds...\n",
            "Current accuracy:0.892406962785114\n"
          ]
        },
        {
          "output_type": "stream",
          "name": "stderr",
          "text": [
            "6718it [2:53:55, 13.88it/s]"
          ]
        },
        {
          "output_type": "stream",
          "name": "stdout",
          "text": [
            "Encountered RateLimitError: Waiting for 65 seconds...\n",
            "Current accuracy:0.8923947015924989\n"
          ]
        },
        {
          "output_type": "stream",
          "name": "stderr",
          "text": [
            "6772it [2:55:07, 12.63it/s]"
          ]
        },
        {
          "output_type": "stream",
          "name": "stdout",
          "text": [
            "Encountered RateLimitError: Waiting for 65 seconds...\n",
            "Current accuracy:0.892071460209656\n"
          ]
        },
        {
          "output_type": "stream",
          "name": "stderr",
          "text": [
            "6811it [2:56:15, 11.96it/s]"
          ]
        },
        {
          "output_type": "stream",
          "name": "stdout",
          "text": [
            "Encountered RateLimitError: Waiting for 65 seconds...\n",
            "Current accuracy:0.8919553728714034\n"
          ]
        },
        {
          "output_type": "stream",
          "name": "stderr",
          "text": [
            "6860it [2:57:25, 13.24it/s]"
          ]
        },
        {
          "output_type": "stream",
          "name": "stdout",
          "text": [
            "Encountered RateLimitError: Waiting for 65 seconds...\n",
            "Current accuracy:0.8918524996356216\n"
          ]
        },
        {
          "output_type": "stream",
          "name": "stderr",
          "text": [
            "6911it [2:58:34, 14.52it/s]"
          ]
        },
        {
          "output_type": "stream",
          "name": "stdout",
          "text": [
            "Encountered RateLimitError: Waiting for 65 seconds...\n",
            "Current accuracy:0.8917980616230291\n"
          ]
        },
        {
          "output_type": "stream",
          "name": "stderr",
          "text": [
            "6956it [2:59:44, 11.03it/s]"
          ]
        },
        {
          "output_type": "stream",
          "name": "stdout",
          "text": [
            "Encountered RateLimitError: Waiting for 65 seconds...\n",
            "Current accuracy:0.8916199511283599\n"
          ]
        },
        {
          "output_type": "stream",
          "name": "stderr",
          "text": [
            "6996it [3:00:54, 12.53it/s]"
          ]
        },
        {
          "output_type": "stream",
          "name": "stdout",
          "text": [
            "Encountered RateLimitError: Waiting for 65 seconds...\n",
            "Current accuracy:0.8913820208660854\n"
          ]
        },
        {
          "output_type": "stream",
          "name": "stderr",
          "text": [
            "7044it [3:02:04,  9.25it/s]"
          ]
        },
        {
          "output_type": "stream",
          "name": "stdout",
          "text": [
            "Encountered RateLimitError: Waiting for 65 seconds...\n",
            "Current accuracy:0.8914277604314504\n"
          ]
        },
        {
          "output_type": "stream",
          "name": "stderr",
          "text": [
            "7092it [3:03:15,  8.56it/s]"
          ]
        },
        {
          "output_type": "stream",
          "name": "stdout",
          "text": [
            "Encountered RateLimitError: Waiting for 65 seconds...\n",
            "Current accuracy:0.8913012829550261\n"
          ]
        },
        {
          "output_type": "stream",
          "name": "stderr",
          "text": [
            "7143it [3:04:23, 11.53it/s]"
          ]
        },
        {
          "output_type": "stream",
          "name": "stdout",
          "text": [
            "Encountered RateLimitError: Waiting for 65 seconds...\n",
            "Current accuracy:0.8916573348264277\n"
          ]
        },
        {
          "output_type": "stream",
          "name": "stderr",
          "text": [
            "7189it [3:05:32, 13.71it/s]"
          ]
        },
        {
          "output_type": "stream",
          "name": "stdout",
          "text": [
            "Encountered RateLimitError: Waiting for 65 seconds...\n",
            "Current accuracy:0.8919482686691698\n"
          ]
        },
        {
          "output_type": "stream",
          "name": "stderr",
          "text": [
            "7237it [3:06:41, 13.24it/s]"
          ]
        },
        {
          "output_type": "stream",
          "name": "stdout",
          "text": [
            "Encountered RateLimitError: Waiting for 65 seconds...\n",
            "Current accuracy:0.8921121701892527\n"
          ]
        },
        {
          "output_type": "stream",
          "name": "stderr",
          "text": [
            "7289it [3:07:52, 11.71it/s]"
          ]
        },
        {
          "output_type": "stream",
          "name": "stdout",
          "text": [
            "Encountered RateLimitError: Waiting for 65 seconds...\n",
            "Current accuracy:0.892318244170096\n"
          ]
        },
        {
          "output_type": "stream",
          "name": "stderr",
          "text": [
            "7340it [3:09:02, 11.25it/s]"
          ]
        },
        {
          "output_type": "stream",
          "name": "stdout",
          "text": [
            "Encountered RateLimitError: Waiting for 65 seconds...\n",
            "Current accuracy:0.8921127911728647\n"
          ]
        },
        {
          "output_type": "stream",
          "name": "stderr",
          "text": [
            "7386it [3:10:13,  5.16it/s]"
          ]
        },
        {
          "output_type": "stream",
          "name": "stdout",
          "text": [
            "Encountered RateLimitError: Waiting for 65 seconds...\n",
            "Current accuracy:0.8914455874390904\n"
          ]
        },
        {
          "output_type": "stream",
          "name": "stderr",
          "text": [
            "7431it [3:11:22, 14.28it/s]"
          ]
        },
        {
          "output_type": "stream",
          "name": "stdout",
          "text": [
            "Encountered RateLimitError: Waiting for 65 seconds...\n",
            "Current accuracy:0.8911610386115969\n"
          ]
        },
        {
          "output_type": "stream",
          "name": "stderr",
          "text": [
            "7476it [3:12:32, 13.35it/s]"
          ]
        },
        {
          "output_type": "stream",
          "name": "stdout",
          "text": [
            "Encountered RateLimitError: Waiting for 65 seconds...\n",
            "Current accuracy:0.8907461888205402\n"
          ]
        },
        {
          "output_type": "stream",
          "name": "stderr",
          "text": [
            "7523it [3:13:41,  7.43it/s]"
          ]
        },
        {
          "output_type": "stream",
          "name": "stdout",
          "text": [
            "Encountered RateLimitError: Waiting for 65 seconds...\n",
            "Current accuracy:0.8907496012759171\n"
          ]
        },
        {
          "output_type": "stream",
          "name": "stderr",
          "text": [
            "7572it [3:14:50, 12.83it/s]"
          ]
        },
        {
          "output_type": "stream",
          "name": "stdout",
          "text": [
            "Encountered RateLimitError: Waiting for 65 seconds...\n",
            "Current accuracy:0.8907962498349399\n"
          ]
        },
        {
          "output_type": "stream",
          "name": "stderr",
          "text": [
            "7611it [3:16:00,  6.61it/s]"
          ]
        },
        {
          "output_type": "stream",
          "name": "stdout",
          "text": [
            "Encountered RateLimitError: Waiting for 65 seconds...\n",
            "Current accuracy:0.8904361534419338\n"
          ]
        },
        {
          "output_type": "stream",
          "name": "stderr",
          "text": [
            "7659it [3:17:11,  6.12it/s]"
          ]
        },
        {
          "output_type": "stream",
          "name": "stdout",
          "text": [
            "Encountered RateLimitError: Waiting for 65 seconds...\n",
            "Current accuracy:0.8904699738903394\n"
          ]
        },
        {
          "output_type": "stream",
          "name": "stderr",
          "text": [
            "7702it [3:18:19, 12.68it/s]"
          ]
        },
        {
          "output_type": "stream",
          "name": "stdout",
          "text": [
            "Encountered RateLimitError: Waiting for 65 seconds...\n",
            "Current accuracy:0.8905763239875389\n"
          ]
        },
        {
          "output_type": "stream",
          "name": "stderr",
          "text": [
            "7750it [3:19:29, 14.95it/s]"
          ]
        },
        {
          "output_type": "stream",
          "name": "stdout",
          "text": [
            "Encountered RateLimitError: Waiting for 65 seconds...\n",
            "Current accuracy:0.8900928792569659\n"
          ]
        },
        {
          "output_type": "stream",
          "name": "stderr",
          "text": [
            "7798it [3:20:38, 12.96it/s]"
          ]
        },
        {
          "output_type": "stream",
          "name": "stdout",
          "text": [
            "Encountered RateLimitError: Waiting for 65 seconds...\n",
            "Current accuracy:0.889857674060777\n"
          ]
        },
        {
          "output_type": "stream",
          "name": "stderr",
          "text": [
            "7853it [3:21:47, 15.20it/s]"
          ]
        },
        {
          "output_type": "stream",
          "name": "stdout",
          "text": [
            "Encountered RateLimitError: Waiting for 65 seconds...\n",
            "Current accuracy:0.8896103896103896\n"
          ]
        },
        {
          "output_type": "stream",
          "name": "stderr",
          "text": [
            "7901it [3:22:56, 14.60it/s]"
          ]
        },
        {
          "output_type": "stream",
          "name": "stdout",
          "text": [
            "Encountered RateLimitError: Waiting for 65 seconds...\n",
            "Current accuracy:0.8895216400911162\n"
          ]
        },
        {
          "output_type": "stream",
          "name": "stderr",
          "text": [
            "7947it [3:24:05, 13.84it/s]"
          ]
        },
        {
          "output_type": "stream",
          "name": "stdout",
          "text": [
            "Encountered RateLimitError: Waiting for 65 seconds...\n",
            "Current accuracy:0.8899232607875205\n"
          ]
        },
        {
          "output_type": "stream",
          "name": "stderr",
          "text": [
            "8000it [3:25:15,  5.16it/s]"
          ]
        },
        {
          "output_type": "stream",
          "name": "stdout",
          "text": [
            "Encountered RateLimitError: Waiting for 65 seconds...\n",
            "Current accuracy:0.8895138107736533\n"
          ]
        },
        {
          "output_type": "stream",
          "name": "stderr",
          "text": [
            "8044it [3:26:24, 11.24it/s]"
          ]
        },
        {
          "output_type": "stream",
          "name": "stdout",
          "text": [
            "Encountered RateLimitError: Waiting for 65 seconds...\n",
            "Current accuracy:0.8892479801118707\n"
          ]
        },
        {
          "output_type": "stream",
          "name": "stderr",
          "text": [
            "8091it [3:27:34, 13.67it/s]"
          ]
        },
        {
          "output_type": "stream",
          "name": "stdout",
          "text": [
            "Encountered RateLimitError: Waiting for 65 seconds...\n",
            "Current accuracy:0.8892870381811442\n"
          ]
        },
        {
          "output_type": "stream",
          "name": "stderr",
          "text": [
            "8138it [3:28:44,  8.83it/s]"
          ]
        },
        {
          "output_type": "stream",
          "name": "stdout",
          "text": [
            "Encountered RateLimitError: Waiting for 65 seconds...\n",
            "Current accuracy:0.8886977886977887\n"
          ]
        },
        {
          "output_type": "stream",
          "name": "stderr",
          "text": [
            "8189it [3:29:53, 13.86it/s]"
          ]
        },
        {
          "output_type": "stream",
          "name": "stdout",
          "text": [
            "Encountered RateLimitError: Waiting for 65 seconds...\n",
            "Current accuracy:0.8884141130509096\n"
          ]
        },
        {
          "output_type": "stream",
          "name": "stderr",
          "text": [
            "8233it [3:31:02, 11.27it/s]"
          ]
        },
        {
          "output_type": "stream",
          "name": "stdout",
          "text": [
            "Encountered RateLimitError: Waiting for 65 seconds...\n",
            "Current accuracy:0.8883896040806413\n"
          ]
        },
        {
          "output_type": "stream",
          "name": "stderr",
          "text": [
            "8272it [3:32:10, 12.01it/s]"
          ]
        },
        {
          "output_type": "stream",
          "name": "stdout",
          "text": [
            "Encountered RateLimitError: Waiting for 65 seconds...\n",
            "Current accuracy:0.8887948748942343\n"
          ]
        },
        {
          "output_type": "stream",
          "name": "stderr",
          "text": [
            "8328it [3:33:20, 14.12it/s]"
          ]
        },
        {
          "output_type": "stream",
          "name": "stdout",
          "text": [
            "Encountered RateLimitError: Waiting for 65 seconds...\n",
            "Current accuracy:0.8888221875375195\n"
          ]
        },
        {
          "output_type": "stream",
          "name": "stderr",
          "text": [
            "8364it [3:34:28, 10.77it/s]"
          ]
        },
        {
          "output_type": "stream",
          "name": "stdout",
          "text": [
            "Encountered RateLimitError: Waiting for 65 seconds...\n",
            "Current accuracy:0.8887162323691131\n"
          ]
        },
        {
          "output_type": "stream",
          "name": "stderr",
          "text": [
            "8407it [3:35:37,  9.32it/s]"
          ]
        },
        {
          "output_type": "stream",
          "name": "stdout",
          "text": [
            "Encountered RateLimitError: Waiting for 65 seconds...\n",
            "Current accuracy:0.8889153187440533\n"
          ]
        },
        {
          "output_type": "stream",
          "name": "stderr",
          "text": [
            "8458it [3:36:48,  6.72it/s]"
          ]
        },
        {
          "output_type": "stream",
          "name": "stdout",
          "text": [
            "Encountered RateLimitError: Waiting for 65 seconds...\n",
            "Current accuracy:0.8888757536351815\n"
          ]
        },
        {
          "output_type": "stream",
          "name": "stderr",
          "text": [
            "8506it [3:37:56, 14.74it/s]"
          ]
        },
        {
          "output_type": "stream",
          "name": "stdout",
          "text": [
            "Encountered RateLimitError: Waiting for 65 seconds...\n",
            "Current accuracy:0.888915011167274\n"
          ]
        },
        {
          "output_type": "stream",
          "name": "stderr",
          "text": [
            "8559it [3:39:06, 15.08it/s]"
          ]
        },
        {
          "output_type": "stream",
          "name": "stdout",
          "text": [
            "Encountered RateLimitError: Waiting for 65 seconds...\n",
            "Current accuracy:0.8889018691588785\n"
          ]
        },
        {
          "output_type": "stream",
          "name": "stderr",
          "text": [
            "8607it [3:40:14, 13.80it/s]"
          ]
        },
        {
          "output_type": "stream",
          "name": "stdout",
          "text": [
            "Encountered RateLimitError: Waiting for 65 seconds...\n",
            "Current accuracy:0.8889405204460966\n"
          ]
        },
        {
          "output_type": "stream",
          "name": "stderr",
          "text": [
            "8655it [3:41:23, 14.88it/s]"
          ]
        },
        {
          "output_type": "stream",
          "name": "stdout",
          "text": [
            "Encountered RateLimitError: Waiting for 65 seconds...\n",
            "Current accuracy:0.88909426987061\n"
          ]
        },
        {
          "output_type": "stream",
          "name": "stderr",
          "text": [
            "8700it [3:42:32,  9.52it/s]"
          ]
        },
        {
          "output_type": "stream",
          "name": "stdout",
          "text": [
            "Encountered RateLimitError: Waiting for 65 seconds...\n",
            "Current accuracy:0.889220868765801\n"
          ]
        },
        {
          "output_type": "stream",
          "name": "stderr",
          "text": [
            "8749it [3:43:42, 11.58it/s]"
          ]
        },
        {
          "output_type": "stream",
          "name": "stdout",
          "text": [
            "Encountered RateLimitError: Waiting for 65 seconds...\n",
            "Current accuracy:0.8894857142857143\n"
          ]
        },
        {
          "output_type": "stream",
          "name": "stderr",
          "text": [
            "8798it [3:44:51, 14.41it/s]"
          ]
        },
        {
          "output_type": "stream",
          "name": "stdout",
          "text": [
            "Encountered RateLimitError: Waiting for 65 seconds...\n",
            "Current accuracy:0.8895329014660757\n"
          ]
        },
        {
          "output_type": "stream",
          "name": "stderr",
          "text": [
            "8839it [3:46:00, 13.33it/s]"
          ]
        },
        {
          "output_type": "stream",
          "name": "stdout",
          "text": [
            "Encountered RateLimitError: Waiting for 65 seconds...\n",
            "Current accuracy:0.8891528107680127\n"
          ]
        },
        {
          "output_type": "stream",
          "name": "stderr",
          "text": [
            "8917it [3:49:13,  3.66it/s]"
          ]
        },
        {
          "output_type": "stream",
          "name": "stdout",
          "text": [
            "Encountered RateLimitError: Waiting for 65 seconds...\n",
            "Current accuracy:0.8886521641623683\n"
          ]
        },
        {
          "output_type": "stream",
          "name": "stderr",
          "text": [
            "8966it [3:50:23,  4.84it/s]"
          ]
        },
        {
          "output_type": "stream",
          "name": "stdout",
          "text": [
            "Encountered RateLimitError: Waiting for 65 seconds...\n",
            "Current accuracy:0.8884924174843889\n"
          ]
        },
        {
          "output_type": "stream",
          "name": "stderr",
          "text": [
            "9011it [3:51:34,  8.65it/s]"
          ]
        },
        {
          "output_type": "stream",
          "name": "stdout",
          "text": [
            "Encountered RateLimitError: Waiting for 65 seconds...\n",
            "Current accuracy:0.888272495284589\n"
          ]
        },
        {
          "output_type": "stream",
          "name": "stderr",
          "text": [
            "9052it [3:52:42, 13.31it/s]"
          ]
        },
        {
          "output_type": "stream",
          "name": "stdout",
          "text": [
            "Encountered RateLimitError: Waiting for 65 seconds...\n",
            "Current accuracy:0.8875635078418379\n"
          ]
        },
        {
          "output_type": "stream",
          "name": "stderr",
          "text": [
            "9100it [3:53:51, 14.73it/s]"
          ]
        },
        {
          "output_type": "stream",
          "name": "stdout",
          "text": [
            "Encountered RateLimitError: Waiting for 65 seconds...\n",
            "Current accuracy:0.8878268512414854\n"
          ]
        },
        {
          "output_type": "stream",
          "name": "stderr",
          "text": [
            "9149it [3:55:01,  9.85it/s]"
          ]
        },
        {
          "output_type": "stream",
          "name": "stdout",
          "text": [
            "Encountered RateLimitError: Waiting for 65 seconds...\n",
            "Current accuracy:0.8883060109289618\n"
          ]
        },
        {
          "output_type": "stream",
          "name": "stderr",
          "text": [
            "9194it [3:56:09, 14.37it/s]"
          ]
        },
        {
          "output_type": "stream",
          "name": "stdout",
          "text": [
            "Encountered RateLimitError: Waiting for 65 seconds...\n",
            "Current accuracy:0.8880913539967373\n"
          ]
        },
        {
          "output_type": "stream",
          "name": "stderr",
          "text": [
            "9239it [3:57:18, 14.51it/s]"
          ]
        },
        {
          "output_type": "stream",
          "name": "stdout",
          "text": [
            "Encountered RateLimitError: Waiting for 65 seconds...\n",
            "Current accuracy:0.8879991342928254\n"
          ]
        },
        {
          "output_type": "stream",
          "name": "stderr",
          "text": [
            "9287it [3:58:27,  9.58it/s]"
          ]
        },
        {
          "output_type": "stream",
          "name": "stdout",
          "text": [
            "Encountered RateLimitError: Waiting for 65 seconds...\n",
            "Current accuracy:0.8881352282515074\n"
          ]
        },
        {
          "output_type": "stream",
          "name": "stderr",
          "text": [
            "9329it [3:59:39,  7.71it/s]"
          ]
        },
        {
          "output_type": "stream",
          "name": "stdout",
          "text": [
            "Encountered RateLimitError: Waiting for 65 seconds...\n",
            "Current accuracy:0.8883292251634337\n"
          ]
        },
        {
          "output_type": "stream",
          "name": "stderr",
          "text": [
            "9373it [4:00:47, 13.86it/s]"
          ]
        },
        {
          "output_type": "stream",
          "name": "stdout",
          "text": [
            "Encountered RateLimitError: Waiting for 65 seconds...\n",
            "Current accuracy:0.8882133333333333\n"
          ]
        },
        {
          "output_type": "stream",
          "name": "stderr",
          "text": [
            "9421it [4:01:56, 14.38it/s]"
          ]
        },
        {
          "output_type": "stream",
          "name": "stdout",
          "text": [
            "Encountered RateLimitError: Waiting for 65 seconds...\n",
            "Current accuracy:0.8882521489971347\n"
          ]
        },
        {
          "output_type": "stream",
          "name": "stderr",
          "text": [
            "9475it [4:03:06, 14.62it/s]"
          ]
        },
        {
          "output_type": "stream",
          "name": "stdout",
          "text": [
            "Encountered RateLimitError: Waiting for 65 seconds...\n",
            "Current accuracy:0.8882439848037147\n"
          ]
        },
        {
          "output_type": "stream",
          "name": "stderr",
          "text": [
            "9525it [4:04:18, 12.41it/s]"
          ]
        },
        {
          "output_type": "stream",
          "name": "stdout",
          "text": [
            "Encountered RateLimitError: Waiting for 65 seconds...\n",
            "Current accuracy:0.888305689691371\n"
          ]
        },
        {
          "output_type": "stream",
          "name": "stderr",
          "text": [
            "9559it [4:05:26,  9.45it/s]"
          ]
        },
        {
          "output_type": "stream",
          "name": "stdout",
          "text": [
            "Encountered RateLimitError: Waiting for 65 seconds...\n",
            "Current accuracy:0.8880753138075314\n"
          ]
        },
        {
          "output_type": "stream",
          "name": "stderr",
          "text": [
            "9594it [4:06:34,  9.50it/s]"
          ]
        },
        {
          "output_type": "stream",
          "name": "stdout",
          "text": [
            "Encountered RateLimitError: Waiting for 65 seconds...\n",
            "Current accuracy:0.8880783659858275\n"
          ]
        },
        {
          "output_type": "stream",
          "name": "stderr",
          "text": [
            "9641it [4:07:44,  8.03it/s]"
          ]
        },
        {
          "output_type": "stream",
          "name": "stdout",
          "text": [
            "Encountered RateLimitError: Waiting for 65 seconds...\n",
            "Current accuracy:0.8883127657368038\n"
          ]
        },
        {
          "output_type": "stream",
          "name": "stderr",
          "text": [
            "9690it [4:08:54,  6.13it/s]"
          ]
        },
        {
          "output_type": "stream",
          "name": "stdout",
          "text": [
            "Encountered RateLimitError: Waiting for 65 seconds...\n",
            "Current accuracy:0.8884647131654974\n"
          ]
        },
        {
          "output_type": "stream",
          "name": "stderr",
          "text": [
            "9746it [4:10:04, 15.10it/s]"
          ]
        },
        {
          "output_type": "stream",
          "name": "stdout",
          "text": [
            "Encountered RateLimitError: Waiting for 65 seconds...\n",
            "Current accuracy:0.888797702092737\n"
          ]
        },
        {
          "output_type": "stream",
          "name": "stderr",
          "text": [
            "9795it [4:11:13, 12.46it/s]"
          ]
        },
        {
          "output_type": "stream",
          "name": "stdout",
          "text": [
            "Encountered RateLimitError: Waiting for 65 seconds...\n",
            "Current accuracy:0.8887414514647342\n"
          ]
        },
        {
          "output_type": "stream",
          "name": "stderr",
          "text": [
            "9842it [4:12:22, 14.19it/s]"
          ]
        },
        {
          "output_type": "stream",
          "name": "stdout",
          "text": [
            "Encountered RateLimitError: Waiting for 65 seconds...\n",
            "Current accuracy:0.8885615603413247\n"
          ]
        },
        {
          "output_type": "stream",
          "name": "stderr",
          "text": [
            "9844it [4:13:29, 10.10s/it]"
          ]
        },
        {
          "output_type": "stream",
          "name": "stdout",
          "text": [
            "Encountered RateLimitError: Waiting for 65 seconds...\n",
            "Current accuracy:0.8885728796343322\n",
            "Encountered RateLimitError: Waiting for 65 seconds...\n",
            "Current accuracy:0.8885728796343322\n",
            "Encountered RateLimitError: Waiting for 65 seconds...\n",
            "Current accuracy:0.8885728796343322\n",
            "Encountered RateLimitError: Waiting for 65 seconds...\n",
            "Current accuracy:0.8885728796343322\n",
            "Encountered RateLimitError: Waiting for 65 seconds...\n",
            "Current accuracy:0.8885728796343322\n",
            "Encountered RateLimitError: Waiting for 65 seconds...\n",
            "Current accuracy:0.8885728796343322\n",
            "Encountered RateLimitError: Waiting for 65 seconds...\n",
            "Current accuracy:0.8885728796343322\n"
          ]
        },
        {
          "output_type": "stream",
          "name": "stderr",
          "text": [
            "\r9844it [4:20:37,  1.59s/it]\n"
          ]
        },
        {
          "output_type": "error",
          "ename": "KeyboardInterrupt",
          "evalue": "ignored",
          "traceback": [
            "\u001b[0;31m---------------------------------------------------------------------------\u001b[0m",
            "\u001b[0;31mRateLimitError\u001b[0m                            Traceback (most recent call last)",
            "\u001b[0;32m<ipython-input-55-b9d846b4a38c>\u001b[0m in \u001b[0;36mtest_accuracy\u001b[0;34m(model)\u001b[0m\n\u001b[1;32m     13\u001b[0m       \u001b[0;32mtry\u001b[0m\u001b[0;34m:\u001b[0m\u001b[0;34m\u001b[0m\u001b[0;34m\u001b[0m\u001b[0m\n\u001b[0;32m---> 14\u001b[0;31m         \u001b[0mresult\u001b[0m \u001b[0;34m=\u001b[0m \u001b[0mcompletion\u001b[0m\u001b[0;34m(\u001b[0m\u001b[0mrow\u001b[0m\u001b[0;34m[\u001b[0m\u001b[0;36m0\u001b[0m\u001b[0;34m]\u001b[0m\u001b[0;34m,\u001b[0m\u001b[0mmodel\u001b[0m\u001b[0;34m)\u001b[0m\u001b[0;34m\u001b[0m\u001b[0;34m\u001b[0m\u001b[0m\n\u001b[0m\u001b[1;32m     15\u001b[0m       \u001b[0;32mexcept\u001b[0m \u001b[0mRateLimitError\u001b[0m\u001b[0;34m:\u001b[0m\u001b[0;34m\u001b[0m\u001b[0;34m\u001b[0m\u001b[0m\n",
            "\u001b[0;32m<ipython-input-52-3f46eb13a014>\u001b[0m in \u001b[0;36mcompletion\u001b[0;34m(prompt, model)\u001b[0m\n\u001b[1;32m      2\u001b[0m \u001b[0;32mdef\u001b[0m \u001b[0mcompletion\u001b[0m\u001b[0;34m(\u001b[0m\u001b[0mprompt\u001b[0m\u001b[0;34m,\u001b[0m\u001b[0mmodel\u001b[0m\u001b[0;34m)\u001b[0m\u001b[0;34m:\u001b[0m\u001b[0;34m\u001b[0m\u001b[0;34m\u001b[0m\u001b[0m\n\u001b[0;32m----> 3\u001b[0;31m   response = openai.Completion.create(\n\u001b[0m\u001b[1;32m      4\u001b[0m               \u001b[0mmodel\u001b[0m\u001b[0;34m=\u001b[0m\u001b[0mmodel\u001b[0m\u001b[0;34m,\u001b[0m\u001b[0;34m\u001b[0m\u001b[0;34m\u001b[0m\u001b[0m\n",
            "\u001b[0;32m/usr/local/lib/python3.8/dist-packages/openai/api_resources/completion.py\u001b[0m in \u001b[0;36mcreate\u001b[0;34m(cls, *args, **kwargs)\u001b[0m\n\u001b[1;32m     24\u001b[0m             \u001b[0;32mtry\u001b[0m\u001b[0;34m:\u001b[0m\u001b[0;34m\u001b[0m\u001b[0;34m\u001b[0m\u001b[0m\n\u001b[0;32m---> 25\u001b[0;31m                 \u001b[0;32mreturn\u001b[0m \u001b[0msuper\u001b[0m\u001b[0;34m(\u001b[0m\u001b[0;34m)\u001b[0m\u001b[0;34m.\u001b[0m\u001b[0mcreate\u001b[0m\u001b[0;34m(\u001b[0m\u001b[0;34m*\u001b[0m\u001b[0margs\u001b[0m\u001b[0;34m,\u001b[0m \u001b[0;34m**\u001b[0m\u001b[0mkwargs\u001b[0m\u001b[0;34m)\u001b[0m\u001b[0;34m\u001b[0m\u001b[0;34m\u001b[0m\u001b[0m\n\u001b[0m\u001b[1;32m     26\u001b[0m             \u001b[0;32mexcept\u001b[0m \u001b[0mTryAgain\u001b[0m \u001b[0;32mas\u001b[0m \u001b[0me\u001b[0m\u001b[0;34m:\u001b[0m\u001b[0;34m\u001b[0m\u001b[0;34m\u001b[0m\u001b[0m\n",
            "\u001b[0;32m/usr/local/lib/python3.8/dist-packages/openai/api_resources/abstract/engine_api_resource.py\u001b[0m in \u001b[0;36mcreate\u001b[0;34m(cls, api_key, api_base, api_type, request_id, api_version, organization, **params)\u001b[0m\n\u001b[1;32m    114\u001b[0m         \u001b[0murl\u001b[0m \u001b[0;34m=\u001b[0m \u001b[0mcls\u001b[0m\u001b[0;34m.\u001b[0m\u001b[0mclass_url\u001b[0m\u001b[0;34m(\u001b[0m\u001b[0mengine\u001b[0m\u001b[0;34m,\u001b[0m \u001b[0mapi_type\u001b[0m\u001b[0;34m,\u001b[0m \u001b[0mapi_version\u001b[0m\u001b[0;34m)\u001b[0m\u001b[0;34m\u001b[0m\u001b[0;34m\u001b[0m\u001b[0m\n\u001b[0;32m--> 115\u001b[0;31m         response, _, api_key = requestor.request(\n\u001b[0m\u001b[1;32m    116\u001b[0m             \u001b[0;34m\"post\"\u001b[0m\u001b[0;34m,\u001b[0m\u001b[0;34m\u001b[0m\u001b[0;34m\u001b[0m\u001b[0m\n",
            "\u001b[0;32m/usr/local/lib/python3.8/dist-packages/openai/api_requestor.py\u001b[0m in \u001b[0;36mrequest\u001b[0;34m(self, method, url, params, headers, files, stream, request_id, request_timeout)\u001b[0m\n\u001b[1;32m    180\u001b[0m         )\n\u001b[0;32m--> 181\u001b[0;31m         \u001b[0mresp\u001b[0m\u001b[0;34m,\u001b[0m \u001b[0mgot_stream\u001b[0m \u001b[0;34m=\u001b[0m \u001b[0mself\u001b[0m\u001b[0;34m.\u001b[0m\u001b[0m_interpret_response\u001b[0m\u001b[0;34m(\u001b[0m\u001b[0mresult\u001b[0m\u001b[0;34m,\u001b[0m \u001b[0mstream\u001b[0m\u001b[0;34m)\u001b[0m\u001b[0;34m\u001b[0m\u001b[0;34m\u001b[0m\u001b[0m\n\u001b[0m\u001b[1;32m    182\u001b[0m         \u001b[0;32mreturn\u001b[0m \u001b[0mresp\u001b[0m\u001b[0;34m,\u001b[0m \u001b[0mgot_stream\u001b[0m\u001b[0;34m,\u001b[0m \u001b[0mself\u001b[0m\u001b[0;34m.\u001b[0m\u001b[0mapi_key\u001b[0m\u001b[0;34m\u001b[0m\u001b[0;34m\u001b[0m\u001b[0m\n",
            "\u001b[0;32m/usr/local/lib/python3.8/dist-packages/openai/api_requestor.py\u001b[0m in \u001b[0;36m_interpret_response\u001b[0;34m(self, result, stream)\u001b[0m\n\u001b[1;32m    395\u001b[0m             return (\n\u001b[0;32m--> 396\u001b[0;31m                 self._interpret_response_line(\n\u001b[0m\u001b[1;32m    397\u001b[0m                     \u001b[0mresult\u001b[0m\u001b[0;34m.\u001b[0m\u001b[0mcontent\u001b[0m\u001b[0;34m,\u001b[0m \u001b[0mresult\u001b[0m\u001b[0;34m.\u001b[0m\u001b[0mstatus_code\u001b[0m\u001b[0;34m,\u001b[0m \u001b[0mresult\u001b[0m\u001b[0;34m.\u001b[0m\u001b[0mheaders\u001b[0m\u001b[0;34m,\u001b[0m \u001b[0mstream\u001b[0m\u001b[0;34m=\u001b[0m\u001b[0;32mFalse\u001b[0m\u001b[0;34m\u001b[0m\u001b[0;34m\u001b[0m\u001b[0m\n",
            "\u001b[0;32m/usr/local/lib/python3.8/dist-packages/openai/api_requestor.py\u001b[0m in \u001b[0;36m_interpret_response_line\u001b[0;34m(self, rbody, rcode, rheaders, stream)\u001b[0m\n\u001b[1;32m    428\u001b[0m         \u001b[0;32mif\u001b[0m \u001b[0mstream_error\u001b[0m \u001b[0;32mor\u001b[0m \u001b[0;32mnot\u001b[0m \u001b[0;36m200\u001b[0m \u001b[0;34m<=\u001b[0m \u001b[0mrcode\u001b[0m \u001b[0;34m<\u001b[0m \u001b[0;36m300\u001b[0m\u001b[0;34m:\u001b[0m\u001b[0;34m\u001b[0m\u001b[0;34m\u001b[0m\u001b[0m\n\u001b[0;32m--> 429\u001b[0;31m             raise self.handle_error_response(\n\u001b[0m\u001b[1;32m    430\u001b[0m                 \u001b[0mrbody\u001b[0m\u001b[0;34m,\u001b[0m \u001b[0mrcode\u001b[0m\u001b[0;34m,\u001b[0m \u001b[0mresp\u001b[0m\u001b[0;34m.\u001b[0m\u001b[0mdata\u001b[0m\u001b[0;34m,\u001b[0m \u001b[0mrheaders\u001b[0m\u001b[0;34m,\u001b[0m \u001b[0mstream_error\u001b[0m\u001b[0;34m=\u001b[0m\u001b[0mstream_error\u001b[0m\u001b[0;34m\u001b[0m\u001b[0;34m\u001b[0m\u001b[0m\n",
            "\u001b[0;31mRateLimitError\u001b[0m: You exceeded your current quota, please check your plan and billing details.",
            "\nDuring handling of the above exception, another exception occurred:\n",
            "\u001b[0;31mKeyboardInterrupt\u001b[0m                         Traceback (most recent call last)",
            "\u001b[0;32m<ipython-input-56-6272f1f22259>\u001b[0m in \u001b[0;36m<module>\u001b[0;34m\u001b[0m\n\u001b[0;32m----> 1\u001b[0;31m \u001b[0mtest_accuracy\u001b[0m\u001b[0;34m(\u001b[0m\u001b[0mmodel_id\u001b[0m\u001b[0;34m)\u001b[0m\u001b[0;34m\u001b[0m\u001b[0;34m\u001b[0m\u001b[0m\n\u001b[0m",
            "\u001b[0;32m<ipython-input-55-b9d846b4a38c>\u001b[0m in \u001b[0;36mtest_accuracy\u001b[0;34m(model)\u001b[0m\n\u001b[1;32m     16\u001b[0m         \u001b[0mprint\u001b[0m\u001b[0;34m(\u001b[0m\u001b[0;34m'Encountered RateLimitError: Waiting for 65 seconds...'\u001b[0m\u001b[0;34m)\u001b[0m\u001b[0;34m\u001b[0m\u001b[0;34m\u001b[0m\u001b[0m\n\u001b[1;32m     17\u001b[0m         \u001b[0mprint\u001b[0m\u001b[0;34m(\u001b[0m\u001b[0;34mf'Current accuracy:{correct/total}'\u001b[0m\u001b[0;34m)\u001b[0m\u001b[0;34m\u001b[0m\u001b[0;34m\u001b[0m\u001b[0m\n\u001b[0;32m---> 18\u001b[0;31m         \u001b[0mtime\u001b[0m\u001b[0;34m.\u001b[0m\u001b[0msleep\u001b[0m\u001b[0;34m(\u001b[0m\u001b[0;36m65\u001b[0m\u001b[0;34m)\u001b[0m\u001b[0;34m\u001b[0m\u001b[0;34m\u001b[0m\u001b[0m\n\u001b[0m\u001b[1;32m     19\u001b[0m         \u001b[0;32mcontinue\u001b[0m\u001b[0;34m\u001b[0m\u001b[0;34m\u001b[0m\u001b[0m\n\u001b[1;32m     20\u001b[0m       \u001b[0;32mbreak\u001b[0m\u001b[0;34m\u001b[0m\u001b[0;34m\u001b[0m\u001b[0m\n",
            "\u001b[0;31mKeyboardInterrupt\u001b[0m: "
          ]
        }
      ]
    }
  ]
}